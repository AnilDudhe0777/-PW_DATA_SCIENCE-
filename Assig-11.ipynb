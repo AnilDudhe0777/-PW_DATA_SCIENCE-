{
 "cells": [
  {
   "cell_type": "markdown",
   "id": "08673b69-dbc2-46fd-9481-b915554ef9a1",
   "metadata": {},
   "source": [
    "# Q1. What is multiprocessing in python? Why is it useful?"
   ]
  },
  {
   "cell_type": "markdown",
   "id": "c445b5e5-62bd-425f-a627-c5c11edad8d2",
   "metadata": {},
   "source": [
    "Multiprocessing in Python refers to the capability of creating and running multiple processes that can execute independently and concurrently.\n",
    "Each process has its own memory space, which allows it to avoid the Global Interpreter Lock (GIL) limitation present in the threading module. \n",
    "By leveraging multiprocessing, Python can achieve true parallelism and utilize multiple CPU cores to execute tasks simultaneously.\n",
    "\n",
    "Multiprocessing is useful for various reasons:\n",
    "\n",
    "Parallelism: It allows different processes to run simultaneously, taking advantage of multiple CPU cores and enabling tasks to be executed in \n",
    "parallel, thereby improving the overall performance and efficiency of the program.\n",
    "\n",
    "Improved Performance: Multiprocessing can lead to improved performance, especially for CPU-bound tasks, as it enables the utilization of the full \n",
    "processing power of a multicore processor, which can significantly speed up the execution of computationally intensive operations.\n",
    "\n",
    "Resource Isolation: Each process has its own memory space, which provides resource isolation and prevents shared memory-related issues such as race \n",
    "conditions and deadlocks, making it easier to manage and control data access and manipulation.\n",
    "\n",
    "Enhanced Stability: By avoiding the GIL limitations associated with the threading module, multiprocessing can enhance the stability and robustness \n",
    "of applications that involve CPU-bound tasks, ensuring that the program remains responsive and doesn't get blocked by a single thread.\n",
    "\n",
    "Compatibility with External Programs: Multiprocessing allows Python to interface with external programs that are designed to run concurrently or\n",
    "in a parallel manner, facilitating the integration of Python scripts with other applications or systems."
   ]
  },
  {
   "cell_type": "markdown",
   "id": "9cbb6ed1-e1ea-46b7-a178-5017849d7700",
   "metadata": {},
   "source": [
    " # Q2. What are the differences between multiprocessing and multithreading?"
   ]
  },
  {
   "cell_type": "markdown",
   "id": "77d015bf-5016-4965-bda3-2709a7df1255",
   "metadata": {},
   "source": [
    "Multiprocessing and multithreading are both methods used for achieving concurrent execution in a program, but they differ in how they manage\n",
    "multiple tasks and utilize system resources. Here are the key differences between multiprocessing and multithreading:\n",
    "\n",
    "Memory Space:\n",
    "\n",
    "Multiprocessing: Each process has its own memory space, which means data sharing between processes requires the use of inter-process communication \n",
    "mechanisms.\n",
    "Multithreading: Threads within a process share the same memory space, allowing for easy and efficient data sharing between threads.\n",
    "Resource Utilization:\n",
    "\n",
    "Multiprocessing: It can fully utilize multiple CPU cores, making it suitable for CPU-bound tasks and computationally intensive operations.\n",
    "Multithreading: Due to the Global Interpreter Lock (GIL) in CPython, multithreading may not be able to utilize multiple CPU cores effectively, \n",
    "making it more suitable for I/O-bound tasks or operations that involve waiting for external resources.\n",
    "Complexity:\n",
    "\n",
    "Multiprocessing: Managing processes involves more overhead and is generally more complex, as each process requires its own resources and coordination\n",
    "mechanisms.\n",
    "Multithreading: Managing threads is less complex than managing processes, as threads within the same process share resources and can communicate \n",
    "directly, simplifying data sharing and coordination.\n",
    "Speed and Efficiency:\n",
    "\n",
    "Multiprocessing: It can provide significant speedup for CPU-bound tasks, enabling true parallelism and making it more efficient for tasks that can be\n",
    "executed independently.\n",
    "Multithreading: While multithreading may not fully utilize multiple CPU cores, it can be more efficient for I/O-bound tasks or operations that \n",
    "involve waiting for external resources, due to the lower overhead associated with thread creation and management.\n",
    "Data Sharing and Communication:\n",
    "\n",
    "Multiprocessing: Data sharing between processes requires the use of mechanisms such as queues, pipes, and shared memory.\n",
    "Multithreading: Data sharing between threads is more straightforward and can be done directly through shared variables, though caution must be\n",
    "taken to avoid race conditions and data inconsistencies."
   ]
  },
  {
   "cell_type": "markdown",
   "id": "8044ce10-cbde-4a3b-8e29-685dfb0d34d3",
   "metadata": {},
   "source": [
    "# Q3. Write a python code to create a process using the multiprocessing module."
   ]
  },
  {
   "cell_type": "code",
   "execution_count": 1,
   "id": "4078d2a6-9626-4edb-aa30-a380fc000a9e",
   "metadata": {},
   "outputs": [
    {
     "name": "stdout",
     "output_type": "stream",
     "text": [
      "The square of 5 is 25\n"
     ]
    }
   ],
   "source": [
    "import multiprocessing\n",
    "\n",
    "# Function to print square of a number\n",
    "def square(num):\n",
    "    result = num * num\n",
    "    print(f\"The square of {num} is {result}\")\n",
    "\n",
    "if __name__ == \"__main__\":\n",
    "    # Creating a process\n",
    "    p = multiprocessing.Process(target=square, args=(5,))\n",
    "    \n",
    "    # Starting the process\n",
    "    p.start()\n",
    "    \n",
    "    # Waiting for the process to finish\n",
    "    p.join()\n"
   ]
  },
  {
   "cell_type": "markdown",
   "id": "06a58bb9-7565-4d46-bb27-2ac00d1e1256",
   "metadata": {},
   "source": [
    "# Q4. What is a multiprocessing pool in python? Why is it used?"
   ]
  },
  {
   "cell_type": "markdown",
   "id": "9898ec25-d3d6-4e53-a5f1-8edc97f5cfed",
   "metadata": {},
   "source": [
    "In Python, a multiprocessing pool is a convenient way to distribute tasks across a fixed number of worker processes. The multiprocessing.Pool \n",
    "class provides a simple interface for asynchronously executing function calls in parallel using multiple processes. It is particularly useful when\n",
    "dealing with CPU-bound tasks that can be parallelized, as it allows for efficient utilization of multiple CPU cores and can significantly improve the \n",
    "overall performance and speed of the program.\n",
    "\n",
    "The multiprocessing.Pool class is used for the following reasons:\n",
    "\n",
    "Parallel Execution: It enables parallel execution of multiple function calls across a pool of worker processes, allowing tasks to be executed \n",
    "concurrently and in parallel, which can lead to a significant reduction in execution time.\n",
    "\n",
    "Resource Utilization: By utilizing multiple processes, it can fully leverage the processing power of multicore systems, ensuring that CPU-bound \n",
    "tasks are efficiently distributed and executed in parallel.\n",
    "\n",
    "Simplified API: The multiprocessing.Pool class provides a simple and easy-to-use API for distributing tasks across processes, abstracting \n",
    "away the complexity of managing and coordinating multiple processes manually."
   ]
  },
  {
   "cell_type": "markdown",
   "id": "1d9633e5-b55d-4738-ad88-30e1468ccf27",
   "metadata": {},
   "source": [
    "# Q5. How can we create a pool of worker processes in python using the multiprocessing module?"
   ]
  },
  {
   "cell_type": "code",
   "execution_count": 2,
   "id": "9cb28a9d-6c10-4eb8-b127-809164de5795",
   "metadata": {},
   "outputs": [
    {
     "name": "stdout",
     "output_type": "stream",
     "text": [
      "Results: [1, 4, 9, 16, 25]\n"
     ]
    }
   ],
   "source": [
    "import multiprocessing\n",
    "\n",
    "# Function to calculate the square of a number\n",
    "def square(x):\n",
    "    return x * x\n",
    "\n",
    "if __name__ == '__main__':\n",
    "    # Specify the number of worker processes in the pool\n",
    "    num_processes = 4\n",
    "\n",
    "    # Create a pool of worker processes\n",
    "    with multiprocessing.Pool(processes=num_processes) as pool:\n",
    "        # Define a list of numbers\n",
    "        numbers = [1, 2, 3, 4, 5]\n",
    "\n",
    "        # Apply the square function to the list of numbers using the pool\n",
    "        results = pool.map(square, numbers)\n",
    "\n",
    "    # Print the results\n",
    "    print(\"Results:\", results)\n"
   ]
  },
  {
   "cell_type": "markdown",
   "id": "98368579-2291-4ab8-a6c7-0505093299d7",
   "metadata": {},
   "source": [
    "# Q6. Write a python program to create 4 processes, each process should print a different number using the multiprocessing module in python."
   ]
  },
  {
   "cell_type": "code",
   "execution_count": 3,
   "id": "dacb7062-10ef-478b-bb09-2c1dfb832b09",
   "metadata": {},
   "outputs": [
    {
     "name": "stdout",
     "output_type": "stream",
     "text": [
      "Process 1: 1\n",
      "Process 2: 2\n",
      "Process 3: 3\n",
      "Process 4: 4\n"
     ]
    }
   ],
   "source": [
    "import multiprocessing\n",
    "\n",
    "# Function to print a number\n",
    "def print_number(number):\n",
    "    print(f\"Process {number}: {number}\")\n",
    "\n",
    "if __name__ == '__main__':\n",
    "    processes = []\n",
    "\n",
    "    # Creating 4 processes\n",
    "    for i in range(4):\n",
    "        p = multiprocessing.Process(target=print_number, args=(i+1,))\n",
    "        processes.append(p)\n",
    "        p.start()\n",
    "\n",
    "    # Waiting for all processes to finish\n",
    "    for p in processes:\n",
    "        p.join()\n"
   ]
  },
  {
   "cell_type": "code",
   "execution_count": null,
   "id": "df027fbe-f077-4ae4-87af-477d92ab5b06",
   "metadata": {},
   "outputs": [],
   "source": []
  }
 ],
 "metadata": {
  "kernelspec": {
   "display_name": "Python 3 (ipykernel)",
   "language": "python",
   "name": "python3"
  },
  "language_info": {
   "codemirror_mode": {
    "name": "ipython",
    "version": 3
   },
   "file_extension": ".py",
   "mimetype": "text/x-python",
   "name": "python",
   "nbconvert_exporter": "python",
   "pygments_lexer": "ipython3",
   "version": "3.10.8"
  }
 },
 "nbformat": 4,
 "nbformat_minor": 5
}
