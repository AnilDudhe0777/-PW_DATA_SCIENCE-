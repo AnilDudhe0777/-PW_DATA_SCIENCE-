{
 "cells": [
  {
   "cell_type": "markdown",
   "id": "be894a6d-e3f8-4c8e-a6a2-1e73ca3180c9",
   "metadata": {},
   "source": [
    "# Q1. Explain why we have to use the Exception class while creating a Custom Exception."
   ]
  },
  {
   "cell_type": "markdown",
   "id": "612be52f-d5e2-4200-95e8-22ac59433bae",
   "metadata": {},
   "source": [
    "The Exception class is the base class for all built-in exceptions in Python. When creating a custom exception, it is crucial to subclass the \n",
    "Exception class to ensure that the custom exception inherits the necessary attributes and behaviors of the base class. By inheriting from the \n",
    "Exception class, the custom exception gains access to important functionalities that are essential for effective error handling and propagation \n",
    "within the Python exception hierarchy.\n",
    "\n",
    "Here are some reasons why it is essential to use the Exception class when creating a custom exception:\n",
    "Inheritance of functionalities: By subclassing the Exception class, the custom exception inherits key functionalities, including the ability to \n",
    "store an error message, access the traceback, and propagate through the exception hierarchy.\n",
    "\n",
    "Consistent error handling: Following the inheritance structure of the built-in exceptions ensures that your custom exception is handled consistently \n",
    "with other exceptions in Python. This facilitates the uniformity of exception handling across different parts of your codebase.\n",
    "\n",
    "Compatibility with exception handling mechanisms: Subclassing Exception allows your custom exception to be compatible with various exception handling \n",
    "mechanisms, such as try, except, and finally blocks, enabling you to handle and manage exceptions effectively within your code.\n",
    "\n",
    "Clarity and maintainability: By using the Exception class, you make it clear that your custom class represents an exception, enhancing the readability\n",
    "and maintainability of your code for both yourself and other developers who might work with your code in the future.\n",
    "\n",
    "In summary, using the Exception class as the base class for creating custom exceptions in Python ensures that your custom exceptions are properly \n",
    "integrated into the Python exception hierarchy, enabling consistent and effective error handling throughout your codebase."
   ]
  },
  {
   "cell_type": "markdown",
   "id": "8a55fceb-3354-488d-823f-fba36b5c2daf",
   "metadata": {},
   "source": [
    "# Q2. Write a python program to print Python Exception Hierarchy."
   ]
  },
  {
   "cell_type": "markdown",
   "id": "14caa3e5-0d1e-48ed-80a5-be991bd3f7cb",
   "metadata": {},
   "source": [
    "ou can print the Python Exception Hierarchy by utilizing the help function along with the BaseException class, which is the base class for \n",
    "all built-in exceptions in Python. This will display the complete exception hierarchy along with their respective subclasses. Here is the Python\n",
    "program to print the Python Exception Hierarchy:"
   ]
  },
  {
   "cell_type": "code",
   "execution_count": 1,
   "id": "4b39ee41-5e95-4459-a7dc-d7117ef112e7",
   "metadata": {},
   "outputs": [
    {
     "name": "stdout",
     "output_type": "stream",
     "text": [
      "Help on class BaseException in module builtins:\n",
      "\n",
      "class BaseException(object)\n",
      " |  Common base class for all exceptions\n",
      " |  \n",
      " |  Built-in subclasses:\n",
      " |      Exception\n",
      " |      GeneratorExit\n",
      " |      KeyboardInterrupt\n",
      " |      SystemExit\n",
      " |  \n",
      " |  Methods defined here:\n",
      " |  \n",
      " |  __delattr__(self, name, /)\n",
      " |      Implement delattr(self, name).\n",
      " |  \n",
      " |  __getattribute__(self, name, /)\n",
      " |      Return getattr(self, name).\n",
      " |  \n",
      " |  __init__(self, /, *args, **kwargs)\n",
      " |      Initialize self.  See help(type(self)) for accurate signature.\n",
      " |  \n",
      " |  __reduce__(...)\n",
      " |      Helper for pickle.\n",
      " |  \n",
      " |  __repr__(self, /)\n",
      " |      Return repr(self).\n",
      " |  \n",
      " |  __setattr__(self, name, value, /)\n",
      " |      Implement setattr(self, name, value).\n",
      " |  \n",
      " |  __setstate__(...)\n",
      " |  \n",
      " |  __str__(self, /)\n",
      " |      Return str(self).\n",
      " |  \n",
      " |  with_traceback(...)\n",
      " |      Exception.with_traceback(tb) --\n",
      " |      set self.__traceback__ to tb and return self.\n",
      " |  \n",
      " |  ----------------------------------------------------------------------\n",
      " |  Static methods defined here:\n",
      " |  \n",
      " |  __new__(*args, **kwargs) from builtins.type\n",
      " |      Create and return a new object.  See help(type) for accurate signature.\n",
      " |  \n",
      " |  ----------------------------------------------------------------------\n",
      " |  Data descriptors defined here:\n",
      " |  \n",
      " |  __cause__\n",
      " |      exception cause\n",
      " |  \n",
      " |  __context__\n",
      " |      exception context\n",
      " |  \n",
      " |  __dict__\n",
      " |  \n",
      " |  __suppress_context__\n",
      " |  \n",
      " |  __traceback__\n",
      " |  \n",
      " |  args\n",
      "\n"
     ]
    }
   ],
   "source": [
    "# Python program to print the Python Exception Hierarchy\n",
    "help(BaseException)"
   ]
  },
  {
   "cell_type": "markdown",
   "id": "daf395fd-38f5-472e-a3db-d13e506af889",
   "metadata": {},
   "source": [
    "Exception Hierarchy, including all the built-in exceptions and their subclasses. The help function provides detailed documentation about \n",
    "the BaseException class and its subclasses, offering insights into the entire structure of the Python Exception Hierarchy."
   ]
  },
  {
   "cell_type": "markdown",
   "id": "6e37125e-fa7d-4e60-9e49-7766a519534e",
   "metadata": {},
   "source": [
    "# Q3. What errors are defined in the ArithmeticError class? Explain any two with an example."
   ]
  },
  {
   "cell_type": "markdown",
   "id": "5631a3d3-c7d1-4ae9-9837-c45845d8fbd4",
   "metadata": {},
   "source": [
    "The ArithmeticError class is a built-in Python class that serves as the base class for various arithmetic-related exceptions. Errors that are \n",
    "defined within the ArithmeticError class typically arise during arithmetic operations and include situations such as division by zero, overflow, \n",
    "underflow, and other arithmetic-related issues.\n",
    "\n",
    "Two common errors that are defined in the ArithmeticError class are ZeroDivisionError and OverflowError."
   ]
  },
  {
   "cell_type": "markdown",
   "id": "40966e16-7bf5-435f-8497-c33d8206b3a7",
   "metadata": {},
   "source": [
    "ZeroDivisionError: This error occurs when attempting to divide a number by zero. It is one of the most common arithmetic errors."
   ]
  },
  {
   "cell_type": "code",
   "execution_count": 2,
   "id": "8ed833e8-9941-4be5-a36e-a50e547ba570",
   "metadata": {},
   "outputs": [
    {
     "name": "stdout",
     "output_type": "stream",
     "text": [
      "Error: division by zero\n"
     ]
    }
   ],
   "source": [
    "# Example of ZeroDivisionError\n",
    "try:\n",
    "    result = 10 / 0  # This line will raise a ZeroDivisionError\n",
    "except ZeroDivisionError as e:\n",
    "    print(\"Error:\", e)\n"
   ]
  },
  {
   "cell_type": "markdown",
   "id": "9494638c-c718-4805-b5e9-1983d4d8bade",
   "metadata": {},
   "source": [
    "OverflowError: This error occurs when the result of an arithmetic operation is too large to be represented. It can happen, for example,\n",
    "when working with integers that exceed the maximum representable value."
   ]
  },
  {
   "cell_type": "code",
   "execution_count": 3,
   "id": "6ce07fde-0a3d-4292-b8b1-64a5e5d42186",
   "metadata": {},
   "outputs": [
    {
     "name": "stdout",
     "output_type": "stream",
     "text": [
      "Error: math range error\n"
     ]
    }
   ],
   "source": [
    "# Example of OverflowError\n",
    "import math\n",
    "try:\n",
    "    result = math.exp(1000)  # This line will raise an OverflowError\n",
    "except OverflowError as e:\n",
    "    print(\"Error:\", e)\n"
   ]
  },
  {
   "cell_type": "markdown",
   "id": "0f7a03b4-746c-44e2-94b1-9a96ade9e4b1",
   "metadata": {},
   "source": [
    "# Q4. Why LookupError class is used? Explain with an example KeyError and IndexError."
   ]
  },
  {
   "cell_type": "markdown",
   "id": "cc23f717-ca7e-46db-8f72-b642dae2cd03",
   "metadata": {},
   "source": [
    "The LookupError class is used as a base class for key-related lookup errors. It serves as a superclass for several related exceptions that may occur \n",
    "during lookup operations in data structures like lists, dictionaries, and tuples. This class helps to catch errors related to failed lookups and \n",
    "provides a consistent way to handle these types of errors.\n",
    "\n",
    "Two common errors that are derived from the LookupError class are KeyError and IndexError."
   ]
  },
  {
   "cell_type": "markdown",
   "id": "127fd1d0-d125-445a-ac75-964f6564c132",
   "metadata": {},
   "source": [
    "KeyError: This error occurs when a dictionary key is not found during a lookup operation. It is raised when a dictionary is accessed with \n",
    "a key that does not exist."
   ]
  },
  {
   "cell_type": "code",
   "execution_count": 4,
   "id": "809ce3ee-77d4-4e5e-bc6c-20f4a41ad61a",
   "metadata": {},
   "outputs": [
    {
     "name": "stdout",
     "output_type": "stream",
     "text": [
      "Error: 'd'\n"
     ]
    }
   ],
   "source": [
    "# Example of KeyError\n",
    "my_dict = {'a': 1, 'b': 2, 'c': 3}\n",
    "try:\n",
    "    value = my_dict['d']  # This line will raise a KeyError\n",
    "except KeyError as e:\n",
    "    print(\"Error:\", e)\n"
   ]
  },
  {
   "cell_type": "markdown",
   "id": "2e2d6c82-e725-4760-a975-b099624c285a",
   "metadata": {},
   "source": [
    "IndexError: This error occurs when trying to access an index in a sequence, such as a list, tuple, or string, that is outside the range \n",
    "of valid indices."
   ]
  },
  {
   "cell_type": "code",
   "execution_count": 5,
   "id": "3bc769d0-8b6e-4d57-907f-d1fa4789373b",
   "metadata": {},
   "outputs": [
    {
     "name": "stdout",
     "output_type": "stream",
     "text": [
      "Error: list index out of range\n"
     ]
    }
   ],
   "source": [
    "# Example of IndexError\n",
    "my_list = [1, 2, 3, 4, 5]\n",
    "try:\n",
    "    value = my_list[10]  # This line will raise an IndexError\n",
    "except IndexError as e:\n",
    "    print(\"Error:\", e)"
   ]
  },
  {
   "cell_type": "markdown",
   "id": "f191a5f1-d4f4-44d7-9102-810968bd9d6a",
   "metadata": {},
   "source": [
    "# Q5. Explain ImportError. What is ModuleNotFoundError?"
   ]
  },
  {
   "cell_type": "markdown",
   "id": "d95f6ca2-1af8-473d-bbde-033bad4b9f2b",
   "metadata": {},
   "source": [
    "In Python, the ImportError is an exception that is raised when an import statement fails to find the module, or when there is an issue while \n",
    "importing a module. It typically occurs when the Python interpreter cannot locate the module or package specified in the import statement.\n",
    "\n",
    "ModuleNotFoundError is a subclass of ImportError that is specifically raised when a module could not be found. This exception was introduced \n",
    "in Python 3.6 to provide a more precise and descriptive error message when a module cannot be located during an import operation.\n",
    "\n",
    "Here's an example to illustrate the ImportError and ModuleNotFoundError:"
   ]
  },
  {
   "cell_type": "code",
   "execution_count": 6,
   "id": "5845b911-b981-4eb8-836a-54af901eaa75",
   "metadata": {},
   "outputs": [
    {
     "name": "stdout",
     "output_type": "stream",
     "text": [
      "ImportError: No module named 'non_existent_module'\n",
      "ModuleNotFoundError: No module named 'non_existent_module'\n"
     ]
    }
   ],
   "source": [
    "# Example of ImportError and ModuleNotFoundError\n",
    "try:\n",
    "    # Trying to import a non-existent module\n",
    "    import non_existent_module\n",
    "except ImportError as e:\n",
    "    print(\"ImportError:\", e)\n",
    "\n",
    "try:\n",
    "    # Trying to import a non-existent module\n",
    "    import non_existent_module\n",
    "except ModuleNotFoundError as e:\n",
    "    print(\"ModuleNotFoundError:\", e)\n"
   ]
  },
  {
   "cell_type": "markdown",
   "id": "5431af3d-2ccd-4171-a925-b1d840d10e94",
   "metadata": {},
   "source": [
    "# Q6. List down some best practices for exception handling in python."
   ]
  },
  {
   "cell_type": "markdown",
   "id": "5019f76b-cadd-4802-a37a-a71f7bebfcdf",
   "metadata": {},
   "source": [
    "Exception handling is a critical aspect of writing robust and reliable code in Python. To ensure effective and efficient exception handling, here are \n",
    "some best practices to keep in mind:\n",
    "\n",
    "1.Specific Exception Handling**: Handle specific exceptions rather than using broad `except` statements. This allows you to differentiate between \n",
    "different types of errors and handle them appropriately.\n",
    "\n",
    "2.Use of Finally Block**: Utilize the `finally` block to perform cleanup operations, such as closing files or releasing system resources, \n",
    "ensuring that critical tasks are always executed, regardless of whether an exception occurs.\n",
    "\n",
    "3.Logging: Implement logging to record and track exceptions, errors, and other relevant information. This helps in debugging and understanding\n",
    "the flow of the program during runtime.\n",
    "\n",
    "4.Raising Appropriate Exceptions**: Raise appropriate exceptions to provide meaningful feedback to users and other developers. Custom exceptions\n",
    "can be particularly useful for handling specific error cases.\n",
    "\n",
    "5.Avoid Bare Except Clauses**: Avoid using bare `except` clauses, as they can catch unexpected errors and make debugging difficult. Always specify \n",
    "the particular exceptions that you expect might occur.\n",
    "\n",
    "6.Keep the Try Block Small**: Place only the necessary code within the `try` block. This helps in isolating the specific code that might raise \n",
    "an exception, making it easier to handle and troubleshoot errors.\n"
   ]
  },
  {
   "cell_type": "code",
   "execution_count": null,
   "id": "caabc865-12a3-4d4b-b649-a805e037155b",
   "metadata": {},
   "outputs": [],
   "source": []
  }
 ],
 "metadata": {
  "kernelspec": {
   "display_name": "Python 3 (ipykernel)",
   "language": "python",
   "name": "python3"
  },
  "language_info": {
   "codemirror_mode": {
    "name": "ipython",
    "version": 3
   },
   "file_extension": ".py",
   "mimetype": "text/x-python",
   "name": "python",
   "nbconvert_exporter": "python",
   "pygments_lexer": "ipython3",
   "version": "3.10.8"
  }
 },
 "nbformat": 4,
 "nbformat_minor": 5
}
