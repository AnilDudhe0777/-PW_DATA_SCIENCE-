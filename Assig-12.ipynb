{
 "cells": [
  {
   "cell_type": "markdown",
   "id": "6c5f7ee8-8129-4c61-932d-c19a5338daf1",
   "metadata": {},
   "source": [
    "# Q1. What is a database? Differentiate between SQL and NoSQL databases."
   ]
  },
  {
   "cell_type": "markdown",
   "id": "7199ae22-b741-46f7-b63a-d7aadefcecd4",
   "metadata": {},
   "source": [
    "A database is a structured set of data that is organized and stored electronically. It is designed to allow the easy retrieval, manipulation, and management of data in a variety of forms. Databases are commonly used in many applications, including websites, online banking, and customer relationship management (CRM) systems.\n",
    "\n",
    "SQL (Structured Query Language) and NoSQL (Not Only SQL) are two different types of database management systems (DBMS) that are used for storing and managing data. Here are the key differences between the two:\n",
    "\n",
    "Data Model:\n",
    "\n",
    "SQL databases are based on the relational model and are also known as relational databases. They use tables to store data and have a predefined schema.\n",
    "NoSQL databases, on the other hand, use various data models such as key-value pairs, documents, column-oriented, and graphs. They are more flexible and can handle unstructured data.\n",
    "\n",
    "Scalability:\n",
    "\n",
    "SQL databases are typically scaled vertically, meaning that to handle an increase in workload, you need to upgrade your hardware (e.g., by adding more powerful CPUs, more memory, or faster disk drives).\n",
    "NoSQL databases are designed to be horizontally scalable, meaning that they can handle increased traffic by adding more servers to the database cluster. This makes them more suitable for large-scale applications with high volumes of data.\n",
    "\n",
    "ACID Compliance:\n",
    "\n",
    "SQL databases are usually ACID (Atomicity, Consistency, Isolation, Durability) compliant, ensuring that transactions are processed reliably.\n",
    "NoSQL databases may not always be fully ACID compliant. They often prioritize availability and partition tolerance (AP) over strict consistency.\n",
    "\n",
    "Schema:\n",
    "\n",
    "SQL databases require a predefined schema, which means that the structure of the data needs to be determined before the data is stored.\n",
    "NoSQL databases are schema-agnostic, meaning that they can handle unstructured data without a predefined schema.\n",
    "\n",
    "Use Cases:\n",
    "\n",
    "SQL databases are suitable for applications that require complex queries and transactions, such as banking systems, e-commerce platforms, and ERP systems.NoSQL databases are better suited for applications that require horizontal scalability and handling large volumes of data with varying data structures, such as content management systems, real-time analytics, and IoT (Internet of Things) applications."
   ]
  },
  {
   "cell_type": "markdown",
   "id": "804f43e5-6c30-4d0a-ac44-fb586f61280f",
   "metadata": {},
   "source": [
    "# Q2. What is DDL? Explain why CREATE, DROP, ALTER, and TRUNCATE are used with an example."
   ]
  },
  {
   "cell_type": "markdown",
   "id": "e3de22ef-e3ca-4f10-9739-c5842c7617fa",
   "metadata": {},
   "source": [
    "DDL stands for Data Definition Language, which is a subset of SQL used to define the database structure or schema. It includes commands that can be used to define, modify, and remove the structure of database objects such as tables, indexes, and views. Some common DDL commands include CREATE, DROP, ALTER, and TRUNCATE.\n",
    "\n",
    "1)CREATE: This command is used to create a new database, table, view, index, or other database objects. Here's an example of creating a new table named 'Employees' with some basic columns:"
   ]
  },
  {
   "cell_type": "code",
   "execution_count": null,
   "id": "45786e56-1cba-4719-8e49-1cfb9b186704",
   "metadata": {},
   "outputs": [],
   "source": [
    "CREATE TABLE Employees (\n",
    "    EmployeeID INT PRIMARY KEY,\n",
    "    FirstName VARCHAR(50),\n",
    "    LastName VARCHAR(50),\n",
    "    Department VARCHAR(50),\n",
    "    Salary DECIMAL(10, 2)\n",
    ");"
   ]
  },
  {
   "cell_type": "markdown",
   "id": "263d3278-b280-4a5a-a3ee-ca9acd945656",
   "metadata": {},
   "source": [
    "2)DROP: This command is used to delete or remove an existing database, table, view, index, or other database objects. For instance, to drop the 'Employees' table created earlier, you would use:"
   ]
  },
  {
   "cell_type": "code",
   "execution_count": null,
   "id": "b2ab8b10-5a66-4094-a2bb-0246be1609c4",
   "metadata": {},
   "outputs": [],
   "source": [
    "DROP TABLE Employees;"
   ]
  },
  {
   "cell_type": "markdown",
   "id": "feb9017d-0a28-4e6c-bc02-4c8bd4ff7da7",
   "metadata": {},
   "source": [
    "3)ALTER: This command is used to modify an existing database object, such as adding, deleting, or modifying columns in a table. Here's an example of adding a new column 'Email' to the 'Employees' table:"
   ]
  },
  {
   "cell_type": "code",
   "execution_count": null,
   "id": "7c2f8caa-1cd1-407d-b72a-e5caee6654f3",
   "metadata": {},
   "outputs": [],
   "source": [
    "ALTER TABLE Employees\n",
    "ADD Email VARCHAR(100);"
   ]
  },
  {
   "cell_type": "markdown",
   "id": "92454d13-5703-43ab-853f-33b99c5b7b42",
   "metadata": {},
   "source": [
    "4)TRUNCATE: This command is used to delete all the rows from a table while keeping its structure intact. Unlike the DROP command, TRUNCATE is a DDL command that is used for removing all the data from a table without removing the table itself. For instance, to remove all data from the 'Employees' table:"
   ]
  },
  {
   "cell_type": "code",
   "execution_count": null,
   "id": "a4710b99-b391-43b0-80cd-21fd0d8c7a0c",
   "metadata": {},
   "outputs": [],
   "source": [
    "TRUNCATE TABLE Employees;"
   ]
  },
  {
   "cell_type": "markdown",
   "id": "1318e18b-e616-466a-bc32-2feb0f6d9d23",
   "metadata": {},
   "source": [
    "These DDL commands are essential for defining and managing the structure of a database, allowing users to create, modify, and remove database objects as necessary to meet the requirements of their applications."
   ]
  },
  {
   "cell_type": "markdown",
   "id": "dd1da1f6-2def-4877-b6fd-663988e01c8c",
   "metadata": {},
   "source": [
    "# Q3. What is DML? Explain INSERT, UPDATE, and DELETE with an example."
   ]
  },
  {
   "cell_type": "markdown",
   "id": "bb374b44-facf-4083-bd72-331441b4e78d",
   "metadata": {},
   "source": [
    "DML stands for Data Manipulation Language, which is a subset of SQL used to manipulate data within a database. It includes commands that allow users to insert, update, retrieve, and delete data from a database. Some common DML commands include INSERT, UPDATE, and DELETE.\n",
    "\n",
    "1)INSERT: This command is used to add new rows of data into a table. Here's an example of how to use the INSERT command to add a new record into the 'Employees' table:"
   ]
  },
  {
   "cell_type": "code",
   "execution_count": null,
   "id": "29e374ca-b864-4469-97c7-e18b10d7061c",
   "metadata": {},
   "outputs": [],
   "source": [
    "INSERT INTO Employees (EmployeeID, FirstName, LastName, Department, Salary)\n",
    "VALUES (1, 'John', 'Doe', 'Sales', 50000.00);"
   ]
  },
  {
   "cell_type": "markdown",
   "id": "78d1d919-60dd-46af-af87-46511ae95260",
   "metadata": {},
   "source": [
    "2)UPDATE: This command is used to modify existing data within a table. Here's an example of how to use the UPDATE command to change the 'Department' of an employee with 'EmployeeID' 1 from 'Sales' to 'Marketing':"
   ]
  },
  {
   "cell_type": "code",
   "execution_count": null,
   "id": "09c6645b-f71e-40e0-b996-8cc5ab193f84",
   "metadata": {},
   "outputs": [],
   "source": [
    "UPDATE Employees\n",
    "SET Department = 'Marketing'\n",
    "WHERE EmployeeID = 1;"
   ]
  },
  {
   "cell_type": "markdown",
   "id": "f0f1b266-e123-4616-91f0-55731dd499b4",
   "metadata": {},
   "source": [
    "3)DELETE: This command is used to remove specific rows from a table based on the specified condition. Here's an example of how to use the DELETE command to remove the employee with 'EmployeeID' 1 from the 'Employees' table:"
   ]
  },
  {
   "cell_type": "code",
   "execution_count": null,
   "id": "862022c1-c6c1-45a2-b859-e4cbce1af80c",
   "metadata": {},
   "outputs": [],
   "source": [
    "DELETE FROM Employees\n",
    "WHERE EmployeeID = 1;"
   ]
  },
  {
   "cell_type": "markdown",
   "id": "14dff16d-d6c2-41a7-bcf9-15c4df9b5156",
   "metadata": {},
   "source": [
    "# Q4. What is DQL? Explain SELECT with an example."
   ]
  },
  {
   "cell_type": "markdown",
   "id": "4ac6d0fb-f6f0-47c7-933f-ca24331c6088",
   "metadata": {},
   "source": [
    "DQL stands for Data Query Language, which is a subset of SQL used to retrieve data from a database. It includes commands that allow users to query and retrieve specific data from one or more tables in a database. The most commonly used DQL command is SELECT.\n",
    "\n",
    "SELECT: This command is used to retrieve data from a database. It allows you to specify the columns to be retrieved, the table from which to retrieve the data, and any conditions that the retrieved data must satisfy. Here's an example of how to use the SELECT command to retrieve data from the 'Employees' table:"
   ]
  },
  {
   "cell_type": "code",
   "execution_count": null,
   "id": "90886475-0018-4629-89d3-2b4e2cb1b580",
   "metadata": {},
   "outputs": [],
   "source": [
    "SELECT * FROM Employees;"
   ]
  },
  {
   "cell_type": "markdown",
   "id": "cc64f822-e495-4369-b9bd-77e287835592",
   "metadata": {},
   "source": [
    "This query will retrieve all the data from the 'Employees' table. If you want to retrieve specific columns, you can specify them explicitly:"
   ]
  },
  {
   "cell_type": "code",
   "execution_count": null,
   "id": "f7828a1a-3bcc-498e-a9b4-ae19ee3fcbda",
   "metadata": {},
   "outputs": [],
   "source": [
    "SELECT EmployeeID, FirstName, LastName, Department FROM Employees;"
   ]
  },
  {
   "cell_type": "markdown",
   "id": "a2b22302-274d-4436-a21f-d58b77f7f0ab",
   "metadata": {},
   "source": [
    "You can also use the SELECT command with conditions to retrieve specific data that meets certain criteria. For example, to retrieve employees from the 'Sales' department:"
   ]
  },
  {
   "cell_type": "code",
   "execution_count": null,
   "id": "4a851866-bcb1-488f-b9c2-5ad3d70ea3d4",
   "metadata": {},
   "outputs": [],
   "source": [
    "SELECT * FROM Employees\n",
    "WHERE Department = 'Sales';"
   ]
  },
  {
   "cell_type": "markdown",
   "id": "6e44619a-4b28-46ba-a864-e1fd9026cf08",
   "metadata": {},
   "source": [
    "# Q5. Explain Primary Key and Foreign Key."
   ]
  },
  {
   "cell_type": "markdown",
   "id": "d686958d-e7e5-4b21-b31a-93ebe1e2fbf9",
   "metadata": {},
   "source": [
    "Primary Key and Foreign Key are two important concepts in the context of relational databases. They are used to establish and manage relationships between different tables in a database.\n",
    "\n",
    "Primary Key:\n",
    "\n",
    "A Primary Key is a column or a set of columns that uniquely identifies each row in a table.\n",
    "It must contain unique values and cannot have NULL values.\n",
    "Each table can have only one Primary Key.\n",
    "The Primary Key is used to ensure the integrity of the data and to establish relationships with other tables.\n",
    "It is often used as a reference point by Foreign Keys in other tables.\n",
    "Examples of Primary Keys can be employee ID, customer ID, or any unique identifier for a specific entity in a table.\n",
    "\n",
    "Foreign Key:\n",
    "\n",
    "A Foreign Key is a column or a set of columns in a table that refers to the Primary Key of another table.\n",
    "It establishes a link between the data in two tables.\n",
    "It helps maintain referential integrity, ensuring that the data in the Foreign Key column(s) of one table matches the data in the corresponding Primary Key column(s) of another table.\n",
    "It can have NULL values, which means that a row in the child table can be without a parent row in the referenced table.\n",
    "A Foreign Key constraint can be used to enforce referential integrity between the two related tables, preventing actions that would destroy the relationships between them.\n",
    "Examples of Foreign Keys can be customer ID in an order table that references the customer table, or department ID in an employee table that references the department table."
   ]
  },
  {
   "cell_type": "markdown",
   "id": "b85580c7-52cb-463f-8b5c-29b5be0729e3",
   "metadata": {},
   "source": [
    "# Q6. Write a python code to connect MySQL to python. Explain the cursor() and execute() method."
   ]
  },
  {
   "cell_type": "markdown",
   "id": "731a22a4-cd02-4296-aa51-90c9d23a573e",
   "metadata": {},
   "source": [
    "To connect MySQL to Python, you can use the mysql-connector-python package. Before running the following code, make sure you have installed the package using pip:"
   ]
  },
  {
   "cell_type": "code",
   "execution_count": 2,
   "id": "9c6febcb-4e7c-47b0-99e9-dbac5bc7dd3f",
   "metadata": {},
   "outputs": [
    {
     "name": "stdout",
     "output_type": "stream",
     "text": [
      "Collecting mysql-connector-python\n",
      "  Downloading mysql_connector_python-8.2.0-cp310-cp310-manylinux_2_17_x86_64.whl (31.6 MB)\n",
      "\u001b[2K     \u001b[90m━━━━━━━━━━━━━━━━━━━━━━━━━━━━━━━━━━━━━━━━\u001b[0m \u001b[32m31.6/31.6 MB\u001b[0m \u001b[31m42.5 MB/s\u001b[0m eta \u001b[36m0:00:00\u001b[0m00:01\u001b[0m00:01\u001b[0m\n",
      "\u001b[?25hRequirement already satisfied: protobuf<=4.21.12,>=4.21.1 in /opt/conda/lib/python3.10/site-packages (from mysql-connector-python) (4.21.11)\n",
      "Installing collected packages: mysql-connector-python\n",
      "Successfully installed mysql-connector-python-8.2.0\n",
      "Note: you may need to restart the kernel to use updated packages.\n"
     ]
    }
   ],
   "source": [
    "pip install mysql-connector-python"
   ]
  },
  {
   "cell_type": "markdown",
   "id": "014c88bc-94a8-4b3d-9fdf-92c0fa41c5de",
   "metadata": {},
   "source": [
    "Here's an example of how to connect MySQL to Python and use the cursor() and execute() methods:"
   ]
  },
  {
   "cell_type": "code",
   "execution_count": null,
   "id": "a1b3229d-fd80-4fa6-8513-f1873137c472",
   "metadata": {},
   "outputs": [],
   "source": [
    "import mysql.connector\n",
    "\n",
    "# Establish a connection to the MySQL database\n",
    "mydb = mysql.connector.connect(\n",
    "  host=\"your_host\",\n",
    "  user=\"your_username\",\n",
    "  password=\"your_password\",\n",
    "  database=\"your_database\"\n",
    ")\n",
    "\n",
    "# Create a cursor object using the cursor() method\n",
    "mycursor = mydb.cursor()\n",
    "\n",
    "# Use the execute() method to execute SQL queries\n",
    "mycursor.execute(\"SELECT * FROM your_table\")\n",
    "\n",
    "# Fetch all the rows from the last executed statement\n",
    "result = mycursor.fetchall()\n",
    "\n",
    "# Print the fetched result\n",
    "for row in result:\n",
    "    print(row)\n",
    "\n",
    "# Close the cursor and the database connection\n",
    "mycursor.close()\n",
    "mydb.close()"
   ]
  },
  {
   "cell_type": "code",
   "execution_count": null,
   "id": "8507d33b-d5a8-4f7a-99ca-b6e236283e02",
   "metadata": {},
   "outputs": [],
   "source": []
  }
 ],
 "metadata": {
  "kernelspec": {
   "display_name": "Python 3 (ipykernel)",
   "language": "python",
   "name": "python3"
  },
  "language_info": {
   "codemirror_mode": {
    "name": "ipython",
    "version": 3
   },
   "file_extension": ".py",
   "mimetype": "text/x-python",
   "name": "python",
   "nbconvert_exporter": "python",
   "pygments_lexer": "ipython3",
   "version": "3.10.8"
  }
 },
 "nbformat": 4,
 "nbformat_minor": 5
}
