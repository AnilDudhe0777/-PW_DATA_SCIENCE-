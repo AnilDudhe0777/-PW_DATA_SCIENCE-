{
 "cells": [
  {
   "cell_type": "markdown",
   "id": "4def0015-b919-4c09-b7ef-4c555a7f3e0a",
   "metadata": {},
   "source": [
    "# Q.1"
   ]
  },
  {
   "cell_type": "code",
   "execution_count": 1,
   "id": "30e18e7c-95b9-4a96-a92d-cdebf81a73f8",
   "metadata": {},
   "outputs": [],
   "source": [
    "a=\"ANIL\""
   ]
  },
  {
   "cell_type": "code",
   "execution_count": 2,
   "id": "08c7a6bf-7442-491a-928e-32c8eb46513f",
   "metadata": {},
   "outputs": [
    {
     "data": {
      "text/plain": [
       "str"
      ]
     },
     "execution_count": 2,
     "metadata": {},
     "output_type": "execute_result"
    }
   ],
   "source": [
    "type(a)"
   ]
  },
  {
   "cell_type": "code",
   "execution_count": 3,
   "id": "16bc4a21-0de4-45bc-bbc9-9fdc9bf35cfc",
   "metadata": {},
   "outputs": [],
   "source": [
    "a=[1,2,3,4,5,6]"
   ]
  },
  {
   "cell_type": "code",
   "execution_count": 4,
   "id": "7c8290d9-7bad-495b-a155-ccb76a98a485",
   "metadata": {},
   "outputs": [
    {
     "data": {
      "text/plain": [
       "list"
      ]
     },
     "execution_count": 4,
     "metadata": {},
     "output_type": "execute_result"
    }
   ],
   "source": [
    "type(a)"
   ]
  },
  {
   "cell_type": "code",
   "execution_count": 5,
   "id": "a5758ec3-5cf6-4428-bac2-bb0d5056b064",
   "metadata": {},
   "outputs": [],
   "source": [
    "a=454.36"
   ]
  },
  {
   "cell_type": "code",
   "execution_count": 6,
   "id": "b5de0753-2a09-4641-b17e-b85f0d8b4d56",
   "metadata": {},
   "outputs": [
    {
     "data": {
      "text/plain": [
       "float"
      ]
     },
     "execution_count": 6,
     "metadata": {},
     "output_type": "execute_result"
    }
   ],
   "source": [
    "type(a)"
   ]
  },
  {
   "cell_type": "code",
   "execution_count": 7,
   "id": "179ba4d4-16bd-410c-9259-fff45a259ebe",
   "metadata": {},
   "outputs": [],
   "source": [
    "a=(1,2,3,(2,3,4),8,9)"
   ]
  },
  {
   "cell_type": "code",
   "execution_count": 8,
   "id": "2d07d299-b7f4-4639-bbf2-bc588f65f67f",
   "metadata": {},
   "outputs": [
    {
     "data": {
      "text/plain": [
       "tuple"
      ]
     },
     "execution_count": 8,
     "metadata": {},
     "output_type": "execute_result"
    }
   ],
   "source": [
    "type(a)"
   ]
  },
  {
   "cell_type": "markdown",
   "id": "8b022796-b789-444a-97aa-4af6bf780a1c",
   "metadata": {},
   "source": [
    "# Q.2"
   ]
  },
  {
   "cell_type": "code",
   "execution_count": 10,
   "id": "aa761092-2c72-4bd6-aabd-95d2e30402ab",
   "metadata": {},
   "outputs": [],
   "source": [
    "var1=''"
   ]
  },
  {
   "cell_type": "code",
   "execution_count": 11,
   "id": "a7b5a97e-a85c-4592-b3c7-07aa08604c71",
   "metadata": {},
   "outputs": [
    {
     "data": {
      "text/plain": [
       "str"
      ]
     },
     "execution_count": 11,
     "metadata": {},
     "output_type": "execute_result"
    }
   ],
   "source": [
    "type(var1)"
   ]
  },
  {
   "cell_type": "code",
   "execution_count": 12,
   "id": "825383e0-0bdc-4a6c-a248-4ae2e895be6b",
   "metadata": {},
   "outputs": [],
   "source": [
    "var2='[DS,ML,Python]'"
   ]
  },
  {
   "cell_type": "code",
   "execution_count": 13,
   "id": "3961e74d-5f19-4f4c-88ae-cfc425418348",
   "metadata": {},
   "outputs": [
    {
     "data": {
      "text/plain": [
       "str"
      ]
     },
     "execution_count": 13,
     "metadata": {},
     "output_type": "execute_result"
    }
   ],
   "source": [
    "type(var2)"
   ]
  },
  {
   "cell_type": "code",
   "execution_count": 17,
   "id": "f54e7066-0a93-47c0-bdb0-531c0ce0cbfe",
   "metadata": {},
   "outputs": [],
   "source": [
    "var3=['DS','ML','Python']"
   ]
  },
  {
   "cell_type": "code",
   "execution_count": 18,
   "id": "33f6771c-2853-4e63-8a54-c618c3f7ae05",
   "metadata": {},
   "outputs": [
    {
     "data": {
      "text/plain": [
       "list"
      ]
     },
     "execution_count": 18,
     "metadata": {},
     "output_type": "execute_result"
    }
   ],
   "source": [
    "type(var3)"
   ]
  },
  {
   "cell_type": "code",
   "execution_count": 19,
   "id": "df4a784c-29a2-4ad8-b6cb-32967eff46da",
   "metadata": {},
   "outputs": [],
   "source": [
    "var4=1"
   ]
  },
  {
   "cell_type": "code",
   "execution_count": 20,
   "id": "1ecc2b5f-4ac0-46dd-b415-3287f12cc79f",
   "metadata": {},
   "outputs": [
    {
     "data": {
      "text/plain": [
       "int"
      ]
     },
     "execution_count": 20,
     "metadata": {},
     "output_type": "execute_result"
    }
   ],
   "source": [
    "type(var4)"
   ]
  },
  {
   "cell_type": "markdown",
   "id": "ce813234-3aac-4b3d-9458-df882b3bda91",
   "metadata": {},
   "source": [
    "# Q.3"
   ]
  },
  {
   "cell_type": "code",
   "execution_count": 22,
   "id": "270d46ed-3406-465e-af7a-caf9340ceff7",
   "metadata": {},
   "outputs": [
    {
     "data": {
      "text/plain": [
       "4.8"
      ]
     },
     "execution_count": 22,
     "metadata": {},
     "output_type": "execute_result"
    }
   ],
   "source": [
    "24/5"
   ]
  },
  {
   "cell_type": "code",
   "execution_count": 23,
   "id": "21649772-a501-46d9-b6a8-44f8482b2ca3",
   "metadata": {},
   "outputs": [
    {
     "data": {
      "text/plain": [
       "4"
      ]
     },
     "execution_count": 23,
     "metadata": {},
     "output_type": "execute_result"
    }
   ],
   "source": [
    "24%5"
   ]
  },
  {
   "cell_type": "code",
   "execution_count": 24,
   "id": "847e8db4-c821-4e1c-9edc-9480c8912625",
   "metadata": {},
   "outputs": [
    {
     "data": {
      "text/plain": [
       "4"
      ]
     },
     "execution_count": 24,
     "metadata": {},
     "output_type": "execute_result"
    }
   ],
   "source": [
    "24//5"
   ]
  },
  {
   "cell_type": "code",
   "execution_count": 25,
   "id": "57398a47-7ea4-417a-a62f-8860b10b7eb6",
   "metadata": {},
   "outputs": [
    {
     "data": {
      "text/plain": [
       "7962624"
      ]
     },
     "execution_count": 25,
     "metadata": {},
     "output_type": "execute_result"
    }
   ],
   "source": [
    "24**5"
   ]
  },
  {
   "cell_type": "markdown",
   "id": "ca1b3997-b4a2-48cd-9a51-04c24d1dbb9d",
   "metadata": {},
   "source": [
    "# Q.4"
   ]
  },
  {
   "cell_type": "code",
   "execution_count": 28,
   "id": "87ce6b50-0f71-4abb-983c-c41cf32ec56e",
   "metadata": {},
   "outputs": [
    {
     "name": "stdout",
     "output_type": "stream",
     "text": [
      "2\n",
      "<class 'int'>\n",
      "3\n",
      "<class 'int'>\n",
      "4\n",
      "<class 'int'>\n",
      "5\n",
      "<class 'int'>\n",
      "6\n",
      "<class 'int'>\n",
      "ANIL\n",
      "<class 'str'>\n",
      "25.36\n",
      "<class 'float'>\n",
      "8\n",
      "<class 'int'>\n",
      "(6+7j)\n",
      "<class 'complex'>\n",
      "8.333\n",
      "<class 'float'>\n"
     ]
    }
   ],
   "source": [
    "l=[2,3,4,5,6,'ANIL',25.36,8,6+7j,8.333]\n",
    "for i in l :\n",
    "    print(i)\n",
    "    print(type(i))"
   ]
  },
  {
   "cell_type": "markdown",
   "id": "ec163787-db39-4fb2-822d-9970078787fa",
   "metadata": {},
   "source": [
    "# Q.5"
   ]
  },
  {
   "cell_type": "code",
   "execution_count": 30,
   "id": "e42fe5bb-8fbd-482b-8279-9f59f762ff05",
   "metadata": {},
   "outputs": [
    {
     "name": "stdin",
     "output_type": "stream",
     "text": [
      "Enter number A:  45\n",
      "Enter number B:  5\n"
     ]
    },
    {
     "name": "stdout",
     "output_type": "stream",
     "text": [
      "1 times: 9 left after division.\n"
     ]
    }
   ],
   "source": [
    "A = int(input(\"Enter number A: \"))\n",
    "B = int(input(\"Enter number B: \"))\n",
    "count = 0\n",
    "while A % B == 0:\n",
    "    A = A // B  \n",
    "    count += 1  \n",
    "if count > 0:\n",
    "    print(f\"{count} times: {A} left after division.\")\n",
    "else:\n",
    "    print(f\"{A} is not divisible by {B}.\")"
   ]
  },
  {
   "cell_type": "markdown",
   "id": "fbca0607-89b5-4b70-a2ff-6b5b695365af",
   "metadata": {},
   "source": [
    "# Q.6"
   ]
  },
  {
   "cell_type": "code",
   "execution_count": 32,
   "id": "215cdf18-170d-4f55-b437-40ebb600079e",
   "metadata": {},
   "outputs": [
    {
     "name": "stdout",
     "output_type": "stream",
     "text": [
      "12 is divisible by 3.\n",
      "8 is not divisible by 3.\n",
      "27 is divisible by 3.\n",
      "5 is not divisible by 3.\n",
      "18 is divisible by 3.\n",
      "36 is divisible by 3.\n",
      "9 is divisible by 3.\n",
      "15 is divisible by 3.\n",
      "7 is not divisible by 3.\n",
      "30 is divisible by 3.\n",
      "21 is divisible by 3.\n",
      "14 is not divisible by 3.\n",
      "11 is not divisible by 3.\n",
      "42 is divisible by 3.\n",
      "33 is divisible by 3.\n",
      "22 is not divisible by 3.\n",
      "4 is not divisible by 3.\n",
      "25 is not divisible by 3.\n",
      "16 is not divisible by 3.\n",
      "6 is divisible by 3.\n",
      "39 is divisible by 3.\n",
      "20 is not divisible by 3.\n",
      "17 is not divisible by 3.\n",
      "3 is divisible by 3.\n",
      "29 is not divisible by 3.\n"
     ]
    }
   ],
   "source": [
    "l = [12, 8, 27, 5, 18, 36, 9, 15, 7, 30, 21, 14, 11, 42, 33, 22, 4, 25, 16, 6, 39, 20, 17, 3, 29]\n",
    "for element in l:\n",
    "    if element % 3 == 0:\n",
    "        print(f\"{element} is divisible by 3.\")\n",
    "    else:\n",
    "        print(f\"{element} is not divisible by 3.\")\n"
   ]
  },
  {
   "cell_type": "markdown",
   "id": "9a94a83e-add6-49db-a132-f54277634ba3",
   "metadata": {},
   "source": [
    "# Q.7"
   ]
  },
  {
   "cell_type": "code",
   "execution_count": null,
   "id": "9c73ae06-84f0-4be8-91a1-21d87a807e16",
   "metadata": {},
   "outputs": [],
   "source": [
    "# mutable : It mean that we can chage the data in a give input sample \n",
    "            #following example represent it very clearly"
   ]
  },
  {
   "cell_type": "code",
   "execution_count": 33,
   "id": "07c5202f-4e1b-459c-9b50-d7ebf5a85e91",
   "metadata": {},
   "outputs": [
    {
     "name": "stdout",
     "output_type": "stream",
     "text": [
      "[1, 2, 3]\n",
      "[10, 2, 3]\n"
     ]
    }
   ],
   "source": [
    "my_list = [1, 2, 3]\n",
    "print(my_list)  \n",
    "\n",
    "my_list[0] = 10  \n",
    "print(my_list)"
   ]
  },
  {
   "cell_type": "code",
   "execution_count": null,
   "id": "e80bbe37-134b-4869-95ac-e85a693ec737",
   "metadata": {},
   "outputs": [],
   "source": [
    "# imutable : It mean that we can not chage the given inpute data "
   ]
  },
  {
   "cell_type": "code",
   "execution_count": 34,
   "id": "d3b9f33b-e199-44d8-b4a6-c008b626d6bb",
   "metadata": {},
   "outputs": [
    {
     "name": "stdout",
     "output_type": "stream",
     "text": [
      "ANIL\n"
     ]
    }
   ],
   "source": [
    "s=\"ANIL\"\n",
    "print(s)"
   ]
  },
  {
   "cell_type": "code",
   "execution_count": 35,
   "id": "7dccc987-be40-4376-bff3-ea149399042b",
   "metadata": {},
   "outputs": [
    {
     "ename": "TypeError",
     "evalue": "'str' object does not support item assignment",
     "output_type": "error",
     "traceback": [
      "\u001b[0;31m---------------------------------------------------------------------------\u001b[0m",
      "\u001b[0;31mTypeError\u001b[0m                                 Traceback (most recent call last)",
      "Cell \u001b[0;32mIn[35], line 1\u001b[0m\n\u001b[0;32m----> 1\u001b[0m \u001b[43ms\u001b[49m\u001b[43m[\u001b[49m\u001b[38;5;241;43m-\u001b[39;49m\u001b[38;5;241;43m1\u001b[39;49m\u001b[43m]\u001b[49m\u001b[38;5;241m=\u001b[39m\u001b[38;5;124m'\u001b[39m\u001b[38;5;124mT\u001b[39m\u001b[38;5;124m'\u001b[39m\n",
      "\u001b[0;31mTypeError\u001b[0m: 'str' object does not support item assignment"
     ]
    }
   ],
   "source": [
    "s[-1]='T'"
   ]
  },
  {
   "cell_type": "code",
   "execution_count": null,
   "id": "0289b34d-acd9-453e-86fc-52b91eeeaf6e",
   "metadata": {},
   "outputs": [],
   "source": [
    "# THANK YOU !!!!!!!!!!!!"
   ]
  }
 ],
 "metadata": {
  "kernelspec": {
   "display_name": "Python 3 (ipykernel)",
   "language": "python",
   "name": "python3"
  },
  "language_info": {
   "codemirror_mode": {
    "name": "ipython",
    "version": 3
   },
   "file_extension": ".py",
   "mimetype": "text/x-python",
   "name": "python",
   "nbconvert_exporter": "python",
   "pygments_lexer": "ipython3",
   "version": "3.10.8"
  }
 },
 "nbformat": 4,
 "nbformat_minor": 5
}
