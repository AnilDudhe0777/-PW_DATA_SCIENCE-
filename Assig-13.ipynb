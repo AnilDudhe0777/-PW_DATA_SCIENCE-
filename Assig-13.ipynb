{
 "cells": [
  {
   "cell_type": "markdown",
   "id": "bbcecb0c-3aa1-42bc-b282-66ba662e4231",
   "metadata": {},
   "source": [
    "# Q1. What is MongoDB? Explain non-relational databases in short. In which scenarios it is preferred to use MongoDB over SQL databases?"
   ]
  },
  {
   "cell_type": "markdown",
   "id": "72befa22-de78-4027-bcfe-f0935cf491a2",
   "metadata": {},
   "source": [
    "MongoDB is a popular open-source, document-oriented NoSQL database program. It uses a JSON-like format to store data, making it flexible and scalable for handling large amounts of unstructured data. MongoDB is designed to provide high performance, high availability, and automatic scaling.\n",
    "\n",
    "Non-relational databases, also known as NoSQL databases, are a type of database that does not rely on the traditional table-based relational database model. They provide a mechanism for storage and retrieval of data that is modeled in ways other than the tabular relations used in relational databases. NoSQL databases can handle large volumes of structured, semi-structured, and unstructured data, making them well-suited for modern, complex, and evolving data sets.\n",
    "\n",
    "Scenarios where MongoDB is preferred over SQL databases include:\n",
    "\n",
    "Scalability: MongoDB is designed for horizontal scalability, allowing you to easily scale your database across multiple servers and data centers, making it suitable for large-scale applications that need to handle a high volume of data and traffic.\n",
    "\n",
    "Schema Flexibility: MongoDB does not require a predefined schema, allowing you to store data in a more flexible, dynamic manner. This is particularly useful when dealing with unstructured or semi-structured data where the data structure may evolve over time.\n",
    "\n",
    "Complex Data: MongoDB is well-suited for applications that deal with complex, hierarchical, or nested data structures, such as social media platforms, content management systems, and real-time analytics applications.\n",
    "\n",
    "Faster Development: MongoDB's flexible data model allows for faster development cycles, as changes to the data model can be accommodated without the need to modify the existing schema.\n",
    "\n",
    "Big Data and Real-Time Analytics: MongoDB's ability to handle large volumes of data and provide real-time analytics makes it a preferred choice for applications that require processing and analyzing large and rapidly changing datasets, such as IoT applications and e-commerce platforms."
   ]
  },
  {
   "cell_type": "markdown",
   "id": "dd991d33-af12-46d1-83c6-96396eb93657",
   "metadata": {},
   "source": [
    "# Q2. State and Explain the features of MongoDB."
   ]
  },
  {
   "cell_type": "markdown",
   "id": "b6a77b0a-f28d-462f-b9c0-314632990d5a",
   "metadata": {},
   "source": [
    "MongoDB, as a popular NoSQL database, comes with several features that make it a flexible and powerful tool for handling large volumes of data. Some of the key features of MongoDB are as follows:\n",
    "\n",
    "Document-Oriented Storage:\n",
    "\n",
    "MongoDB stores data in flexible, JSON-like documents, allowing fields to vary from document to document and enabling the storage of complex data structures.\n",
    "\n",
    "Ad Hoc Queries:\n",
    "\n",
    "MongoDB supports dynamic queries on documents using a syntax that's nearly identical to the JSON query syntax. This enables users to perform powerful ad hoc queries.\n",
    "\n",
    "Indexing:\n",
    "\n",
    "MongoDB supports the indexing of any attribute in a document. This helps in the efficient execution of queries and can include primary and secondary indexes.\n",
    "\n",
    "Replication:\n",
    "\n",
    "MongoDB provides high availability with replica sets. A replica set is a group of MongoDB servers that maintain the same data set, providing redundancy and increasing data availability.\n",
    "\n",
    "Load Balancing:\n",
    "\n",
    "MongoDB scales horizontally using sharding. Sharding distributes data across multiple machines. It helps in handling large data sets and high throughput by providing better read/write operations.\n",
    "\n",
    "Aggregation:\n",
    "\n",
    "MongoDB provides an aggregation framework that can process data records and return computed results. It supports various aggregation stages such as filtering, grouping, sorting, and limiting results.\n",
    "\n",
    "File Storage:\n",
    "\n",
    "MongoDB can be used as a file system, taking advantage of large data sets and horizontal scaling. This feature allows users to store and retrieve large files, such as images, videos, and other binary data.\n",
    "\n",
    "Server-Side JavaScript Execution:\n",
    "\n",
    "MongoDB allows the execution of JavaScript functions on the database server. This feature enables users to perform various operations directly in the database, reducing network traffic and latency.\n",
    "\n",
    "Adaptive Schema:\n",
    "\n",
    "MongoDB does not require a predefined schema, allowing users to create records without having to define the structure of the data in advance. This flexibility is particularly useful in scenarios where the data schema is subject to frequent changes.\n",
    "\n",
    "Geospatial Indexing:\n",
    "\n",
    "MongoDB supports the storage and querying of geospatial data, making it an ideal choice for applications that deal with location-based services and geospatial information."
   ]
  },
  {
   "cell_type": "markdown",
   "id": "a40460e8-7bfa-45cb-ba2a-a8a18d2fdac1",
   "metadata": {},
   "source": [
    "# Q3. Write a code to connect MongoDB to Python. Also, create a database and a collection in MongoDB."
   ]
  },
  {
   "cell_type": "markdown",
   "id": "05fcceca-ef5e-49ec-892a-6b65bae2a550",
   "metadata": {},
   "source": [
    "To connect MongoDB to Python, you can use the pymongo library. First, you'll need to install the library using pip:"
   ]
  },
  {
   "cell_type": "code",
   "execution_count": null,
   "id": "7daab02e-7d49-40e1-96dd-4a1f5a3a0c1d",
   "metadata": {},
   "outputs": [],
   "source": [
    "pip install pymongo"
   ]
  },
  {
   "cell_type": "markdown",
   "id": "30f91774-c551-46bf-aa44-1042ffb78828",
   "metadata": {},
   "source": [
    "Here's an example of how to connect MongoDB to Python, create a database, and create a collection within that database:"
   ]
  },
  {
   "cell_type": "code",
   "execution_count": null,
   "id": "5bf00372-3214-408e-89c5-8330e5bebb6e",
   "metadata": {},
   "outputs": [],
   "source": [
    "import pymongo\n",
    "\n",
    "# Establish a connection to MongoDB\n",
    "myclient = pymongo.MongoClient(\"mongodb://localhost:27017/\")\n",
    "\n",
    "# Create a new database\n",
    "mydb = myclient[\"mydatabase\"]\n",
    "\n",
    "# Create a new collection\n",
    "mycol = mydb[\"customers\"]\n",
    "\n",
    "# Insert a document into the collection\n",
    "mydict = { \"name\": \"John\", \"address\": \"Highway 37\" }\n",
    "x = mycol.insert_one(mydict)\n",
    "\n",
    "# Print the id of the inserted document\n",
    "print(x.inserted_id)"
   ]
  },
  {
   "cell_type": "markdown",
   "id": "9d342077-d731-4e89-85cb-b39e365d5282",
   "metadata": {},
   "source": [
    "# Q4. Using the database and the collection created in question number 3, write a code to insert one record, and insert many records. Use the find() and find_one() methods to print the inserted record."
   ]
  },
  {
   "cell_type": "markdown",
   "id": "e2de7ee4-1398-49ff-acbd-9e3fb87aa1e5",
   "metadata": {},
   "source": [
    "Here's an example of how to insert one record and insert multiple records into the MongoDB collection and use the find() and find_one() methods to print the inserted records:"
   ]
  },
  {
   "cell_type": "code",
   "execution_count": null,
   "id": "458e9681-c40d-4a7c-a158-a8ca28b5cc64",
   "metadata": {},
   "outputs": [],
   "source": [
    "import pymongo\n",
    "\n",
    "# Establish a connection to MongoDB\n",
    "myclient = pymongo.MongoClient(\"mongodb://localhost:27017/\")\n",
    "\n",
    "# Access the database and collection\n",
    "mydb = myclient[\"mydatabase\"]\n",
    "mycol = mydb[\"customers\"]\n",
    "\n",
    "# Insert one record\n",
    "mydict_one = { \"name\": \"Jane\", \"address\": \"Mountain 21\" }\n",
    "mycol.insert_one(mydict_one)\n",
    "\n",
    "# Insert many records\n",
    "mylist = [\n",
    "  { \"name\": \"Amy\", \"address\": \"Apple street 652\"},\n",
    "  { \"name\": \"Hannah\", \"address\": \"Mountain 105\"},\n",
    "  { \"name\": \"Michael\", \"address\": \"Valley 345\"},\n",
    "  { \"name\": \"Sandy\", \"address\": \"Ocean blvd 2\"},\n",
    "  { \"name\": \"Betty\", \"address\": \"Green Grass 1\"}\n",
    "]\n",
    "mycol.insert_many(mylist)\n",
    "\n",
    "# Print the inserted records using find() method\n",
    "print(\"All records:\")\n",
    "for x in mycol.find():\n",
    "  print(x)\n",
    "\n",
    "# Print the inserted record using find_one() method\n",
    "print(\"\\nOne record:\")\n",
    "print(mycol.find_one({ \"name\": \"Jane\" }))\n"
   ]
  },
  {
   "cell_type": "markdown",
   "id": "8e98b2f3-8d8b-40fd-9e01-6186012f1c13",
   "metadata": {},
   "source": [
    "# Q5. Explain how you can use the find() method to query the MongoDB database. Write a simple code to demonstrate this."
   ]
  },
  {
   "cell_type": "markdown",
   "id": "fe13da0c-c64e-4e8d-9feb-dd1e29b3b702",
   "metadata": {},
   "source": [
    "In MongoDB, the find() method is used to query the database and retrieve documents that match the specified query criteria. This method allows you to retrieve multiple documents from a collection based on the specified query parameters. You can use various query parameters to filter the results, such as equality, comparison, logical, and element query operators. Here's a brief explanation of how to use the find() method:\n",
    "\n",
    "Basic Syntax:\n",
    "The basic syntax for the find() method is as follows:"
   ]
  },
  {
   "cell_type": "code",
   "execution_count": null,
   "id": "13ecd651-afbd-445f-841b-0b270bfb0fea",
   "metadata": {},
   "outputs": [],
   "source": [
    "cursor = collection.find(query, projection)"
   ]
  },
  {
   "cell_type": "markdown",
   "id": "7acee3f1-3c3a-4782-8fa8-c13f91015fff",
   "metadata": {},
   "source": [
    "Parameters:\n",
    "\n",
    "query: The query parameter specifies the selection criteria using query operators. If no query is specified, all documents in the collection will be returned.\n",
    "\n",
    "projection (optional): The projection parameter specifies which fields to include in the returned documents. It can be used to include or exclude specific fields.\n",
    "\n",
    "Usage:\n",
    "\n",
    "You can use various query operators such as $gt, $lt, $in, $and, $or, etc., to specify complex query conditions. The find() method returns a cursor, which can be iterated to access the retrieved documents.\n",
    "\n",
    "Here's a simple example to demonstrate how to use the find() method in MongoDB:"
   ]
  },
  {
   "cell_type": "code",
   "execution_count": null,
   "id": "bcf2da23-5df1-4332-ae86-19b54cf3d71a",
   "metadata": {},
   "outputs": [],
   "source": [
    "import pymongo\n",
    "\n",
    "# Establish a connection to MongoDB\n",
    "myclient = pymongo.MongoClient(\"mongodb://localhost:27017/\")\n",
    "\n",
    "# Access the database and collection\n",
    "mydb = myclient[\"mydatabase\"]\n",
    "mycol = mydb[\"customers\"]\n",
    "\n",
    "# Find documents where the name is 'John'\n",
    "query = { \"name\": \"John\" }\n",
    "result = mycol.find(query)\n",
    "\n",
    "# Print the retrieved documents\n",
    "for x in result:\n",
    "  print(x)\n"
   ]
  },
  {
   "cell_type": "markdown",
   "id": "2501577b-247c-423a-a996-b865f69fb4d8",
   "metadata": {},
   "source": [
    "# Q6. Explain the sort() method. Give an example to demonstrate sorting in MongoDB."
   ]
  },
  {
   "cell_type": "markdown",
   "id": "f59442ae-7583-4d20-a47f-9c3e1b479ad3",
   "metadata": {},
   "source": [
    "In MongoDB, the sort() method is used to sort the results of a query in either ascending or descending order based on one or more fields. It allows you to specify the field or fields by which you want to sort the results and the direction of the sorting (ascending or descending). Here is a brief explanation of how the sort() method works:\n",
    "\n",
    "Basic Syntax:\n",
    "The basic syntax for the sort() method is as follows:"
   ]
  },
  {
   "cell_type": "code",
   "execution_count": null,
   "id": "ab1f185f-09a0-4261-9c01-edf1648d8d4a",
   "metadata": {},
   "outputs": [],
   "source": [
    "result = collection.find(query).sort(field, direction)"
   ]
  },
  {
   "cell_type": "code",
   "execution_count": null,
   "id": "de649ec2-1182-44fa-b280-ac8b453a9053",
   "metadata": {},
   "outputs": [],
   "source": [
    "Parameters:\n",
    "\n",
    "field: The field by which you want to sort the results. It can be a single field or a list of fields.\n",
    "direction: The direction of the sorting. It can be pymongo.ASCENDING for ascending order or pymongo.DESCENDING for descending order.\n",
    "Usage:\n",
    "You can use the sort() method in combination with the find() method to retrieve sorted results based on specific fields. The sorting can be based on numeric values, string values, or dates.\n",
    "\n",
    "Here's an example that demonstrates how to use the sort() method in MongoDB:"
   ]
  }
 ],
 "metadata": {
  "kernelspec": {
   "display_name": "Python 3 (ipykernel)",
   "language": "python",
   "name": "python3"
  },
  "language_info": {
   "codemirror_mode": {
    "name": "ipython",
    "version": 3
   },
   "file_extension": ".py",
   "mimetype": "text/x-python",
   "name": "python",
   "nbconvert_exporter": "python",
   "pygments_lexer": "ipython3",
   "version": "3.10.8"
  }
 },
 "nbformat": 4,
 "nbformat_minor": 5
}
