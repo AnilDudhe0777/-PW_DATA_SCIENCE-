{
 "cells": [
  {
   "cell_type": "markdown",
   "id": "729b421f-b395-406d-941d-7f70f608321d",
   "metadata": {},
   "source": [
    "# Q1. Explain Class and Object with respect to Object-Oriented Programming. Give a suitable example."
   ]
  },
  {
   "cell_type": "markdown",
   "id": "1d59d097-0687-4333-9401-169bc620c174",
   "metadata": {},
   "source": [
    "In object-oriented programming (OOP), a class is a blueprint for creating objects (a particular data structure), providing initial values\n",
    "for state (member variables or attributes) and implementations of behavior (member functions or methods). An object, on the other hand, is \n",
    "a particular instance of a class. It can be thought of as a unique entity with its own set of data and functions."
   ]
  },
  {
   "cell_type": "code",
   "execution_count": 1,
   "id": "edafb1de-48c6-403e-93ad-3377fea3cb5c",
   "metadata": {},
   "outputs": [
    {
     "name": "stdout",
     "output_type": "stream",
     "text": [
      "This car is a 2020 Toyota Corolla.\n",
      "This car is a 2018 Ford Mustang.\n"
     ]
    }
   ],
   "source": [
    "class Car:\n",
    "    def __init__(self, make, model, year):\n",
    "        self.make = make\n",
    "        self.model = model\n",
    "        self.year = year\n",
    "\n",
    "    def display_info(self):\n",
    "        print(f\"This car is a {self.year} {self.make} {self.model}.\")\n",
    "\n",
    "\n",
    "car1 = Car(\"Toyota\", \"Corolla\", 2020)\n",
    "car2 = Car(\"Ford\", \"Mustang\", 2018)\n",
    "\n",
    "\n",
    "car1.display_info()\n",
    "car2.display_info()\n"
   ]
  },
  {
   "cell_type": "markdown",
   "id": "b8b00222-1fc3-416a-9053-d02a129898c2",
   "metadata": {},
   "source": [
    "# Q2. Name the four pillars of OOPs."
   ]
  },
  {
   "cell_type": "markdown",
   "id": "d2e88d99-7b68-4e70-a8eb-f2039a2a16d8",
   "metadata": {},
   "source": [
    "1)Encapsulation: It is the mechanism of hiding the implementation details of a class, allowing only the necessary information to be visible to the outside world. It helps in achieving data hiding and abstraction.\n",
    "\n",
    "2)Inheritance: It is a mechanism by which one class can inherit properties and behavior from another class. It supports the hierarchical classification, enabling the creation of a new class that is built upon existing classes. This promotes code reusability and helps in implementing polymorphism.\n",
    "\n",
    "3)Polymorphism: It allows objects of different classes to be treated as objects of a common superclass, thereby providing a way to perform a single action in different ways. Polymorphism is typically achieved through method overriding and method overloading.\n",
    "\n",
    "4)Abstraction: It refers to the concept of representing essential features without including the background details or explanations. It helps in managing complexity by hiding unnecessary details from the user. Abstraction is achieved through abstract classes and interfaces."
   ]
  },
  {
   "cell_type": "markdown",
   "id": "dd82626d-24b9-4973-aac8-be05518c0761",
   "metadata": {},
   "source": [
    "# Q3. Explain why the __init__() function is used. Give a suitable example."
   ]
  },
  {
   "cell_type": "markdown",
   "id": "e11dae09-46b6-4da2-8a31-ebedff67ad73",
   "metadata": {},
   "source": [
    "In Python, the __init__() function is a special method that is automatically called when an instance of a class is created. It is often used to initialize the attributes of the class. The primary purpose of the __init__() method is to set up a class instance with the desired initial state. This method is a constructor and is responsible for initializing the object's attributes."
   ]
  },
  {
   "cell_type": "code",
   "execution_count": 2,
   "id": "df87acea-464f-4d5d-b5c7-be119af137cd",
   "metadata": {},
   "outputs": [
    {
     "name": "stdout",
     "output_type": "stream",
     "text": [
      "Name: John Doe, Age: 20, Grade: A\n",
      "Name: Jane Smith, Age: 22, Grade: B\n"
     ]
    }
   ],
   "source": [
    "class Student:\n",
    "    def __init__(self, name, age, grade):\n",
    "        self.name = name\n",
    "        self.age = age\n",
    "        self.grade = grade\n",
    "\n",
    "    def display_student_info(self):\n",
    "        print(f\"Name: {self.name}, Age: {self.age}, Grade: {self.grade}\")\n",
    "\n",
    "\n",
    "student1 = Student(\"John Doe\", 20, \"A\")\n",
    "student2 = Student(\"Jane Smith\", 22, \"B\")\n",
    "\n",
    "\n",
    "student1.display_student_info()\n",
    "student2.display_student_info()\n"
   ]
  },
  {
   "cell_type": "markdown",
   "id": "5b3a09da-5dee-4e7c-a760-7d9a66ca76e9",
   "metadata": {},
   "source": [
    "# Q4. Why self is used in OOPs?"
   ]
  },
  {
   "cell_type": "markdown",
   "id": "82544ae2-859c-48e6-9160-ee77fe143b0b",
   "metadata": {},
   "source": [
    "In object-oriented programming (OOP), the term \"self\" is commonly used to represent the instance of the class. It is a reference to the current instance of the class and is used to access the attributes and methods of the class. \"Self\" allows the instance to refer to its own attributes and methods within the class.\n",
    "\n",
    "Here are a few reasons why \"self\" is used in OOP:\n",
    "\n",
    "1)Identifying Instance Variables: \"Self\" helps in differentiating between the instance variables and local variables. It allows you to access the instance variables that are associated with a particular instance of the class.\n",
    "\n",
    "2)Accessing Instance Methods: With \"self,\" you can call other methods within the class. It helps in accessing and invoking other methods that are defined within the same class.\n",
    "\n",
    "3)Differentiating Between Class and Instance Variables: \"Self\" is essential in distinguishing between class variables and instance variables. It helps in accessing instance variables that are specific to an object rather than the class as a whole.\n",
    "\n",
    "4)Maintaining Encapsulation: \"Self\" plays a vital role in encapsulation, as it enables controlled access to the instance's attributes and methods. It ensures that the internal state of the object is accessible and modifiable only through well-defined methods."
   ]
  },
  {
   "cell_type": "markdown",
   "id": "6c5e5667-a862-4bac-887e-c9d30ace0f7e",
   "metadata": {},
   "source": [
    "# Q5. What is inheritance? Give an example for each type of inheritance."
   ]
  },
  {
   "cell_type": "markdown",
   "id": "528a0f29-dffa-427b-8efe-53cba88582ba",
   "metadata": {},
   "source": [
    "Inheritance is a fundamental concept in object-oriented programming (OOP) that allows a new class to inherit properties and behavior from an existing class. The class that is being inherited is known as the base class, parent class, or superclass, and the class that inherits from it is called the derived class, child class, or subclass. Inheritance facilitates code reusability, promotes a hierarchical relationship between classes, and allows for the creation of more specialized classes based on existing ones."
   ]
  },
  {
   "cell_type": "markdown",
   "id": "781c4fc8-79a1-4a99-8e08-6f169efd0916",
   "metadata": {},
   "source": [
    "1)Single Inheritance: Single inheritance is when a class inherits from only one base class. The derived class acquires the properties and behavior of the base class."
   ]
  },
  {
   "cell_type": "code",
   "execution_count": 3,
   "id": "992ee8c2-3cda-4545-a77e-19b12ae768bc",
   "metadata": {},
   "outputs": [
    {
     "name": "stdout",
     "output_type": "stream",
     "text": [
      "Woof\n"
     ]
    }
   ],
   "source": [
    "class Animal:\n",
    "    def make_sound(self):\n",
    "        pass\n",
    "\n",
    "class Dog(Animal):\n",
    "    def make_sound(self):\n",
    "        print(\"Woof\")\n",
    "\n",
    "my_dog = Dog()\n",
    "my_dog.make_sound()  \n"
   ]
  },
  {
   "cell_type": "markdown",
   "id": "dc1ad8a2-0cae-4f66-82bc-547eef54308e",
   "metadata": {},
   "source": [
    "2)Multiple Inheritance: Multiple inheritance is when a class can inherit attributes and methods from more than one base class."
   ]
  },
  {
   "cell_type": "code",
   "execution_count": 4,
   "id": "f87fd824-b09c-4581-8364-369fe254892f",
   "metadata": {},
   "outputs": [
    {
     "name": "stdout",
     "output_type": "stream",
     "text": [
      "Method A\n",
      "Method B\n"
     ]
    }
   ],
   "source": [
    "class A:\n",
    "    def method_A(self):\n",
    "        print(\"Method A\")\n",
    "\n",
    "class B:\n",
    "    def method_B(self):\n",
    "        print(\"Method B\")\n",
    "\n",
    "class C(A, B):\n",
    "    pass\n",
    "\n",
    "obj = C()\n",
    "obj.method_A()  \n",
    "obj.method_B()  \n"
   ]
  },
  {
   "cell_type": "markdown",
   "id": "9ee9c372-fe76-4c44-8568-97a989eda5ba",
   "metadata": {},
   "source": [
    "3)Multilevel Inheritance: Multilevel inheritance is when a derived class inherits from a base class, and then another class inherits from this derived class. This forms a parent-child-grandchild relationship"
   ]
  },
  {
   "cell_type": "code",
   "execution_count": 5,
   "id": "7282cf3e-4b69-4eb8-867a-b872fc9d3953",
   "metadata": {},
   "outputs": [
    {
     "name": "stdout",
     "output_type": "stream",
     "text": [
      "Method A\n",
      "Method B\n",
      "Method C\n"
     ]
    }
   ],
   "source": [
    "class A:\n",
    "    def method_A(self):\n",
    "        print(\"Method A\")\n",
    "\n",
    "class B(A):\n",
    "    def method_B(self):\n",
    "        print(\"Method B\")\n",
    "\n",
    "class C(B):\n",
    "    def method_C(self):\n",
    "        print(\"Method C\")\n",
    "\n",
    "obj = C()\n",
    "obj.method_A()  \n",
    "obj.method_B()  \n",
    "obj.method_C()  \n"
   ]
  },
  {
   "cell_type": "markdown",
   "id": "f0ff1308-8e6c-4eae-a504-a1c7e4fb4d09",
   "metadata": {},
   "source": [
    "4)Hierarchical Inheritance: Hierarchical inheritance is when more than one derived class inherits from the same base class."
   ]
  },
  {
   "cell_type": "code",
   "execution_count": 6,
   "id": "9469f087-9ee0-4e73-8799-583afacd2d5f",
   "metadata": {},
   "outputs": [
    {
     "name": "stdout",
     "output_type": "stream",
     "text": [
      "Driving car\n",
      "Driving truck\n"
     ]
    }
   ],
   "source": [
    "class Vehicle:\n",
    "    def drive(self):\n",
    "        pass\n",
    "\n",
    "class Car(Vehicle):\n",
    "    def drive(self):\n",
    "        print(\"Driving car\")\n",
    "\n",
    "class Truck(Vehicle):\n",
    "    def drive(self):\n",
    "        print(\"Driving truck\")\n",
    "\n",
    "my_car = Car()\n",
    "my_truck = Truck()\n",
    "my_car.drive()  \n",
    "my_truck.drive()  \n"
   ]
  },
  {
   "cell_type": "code",
   "execution_count": null,
   "id": "14f030e0-803d-47d7-97a9-fa8e5a037fe7",
   "metadata": {},
   "outputs": [],
   "source": []
  }
 ],
 "metadata": {
  "kernelspec": {
   "display_name": "Python 3 (ipykernel)",
   "language": "python",
   "name": "python3"
  },
  "language_info": {
   "codemirror_mode": {
    "name": "ipython",
    "version": 3
   },
   "file_extension": ".py",
   "mimetype": "text/x-python",
   "name": "python",
   "nbconvert_exporter": "python",
   "pygments_lexer": "ipython3",
   "version": "3.10.8"
  }
 },
 "nbformat": 4,
 "nbformat_minor": 5
}
