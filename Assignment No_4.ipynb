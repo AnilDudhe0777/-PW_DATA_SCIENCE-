{
 "cells": [
  {
   "cell_type": "markdown",
   "id": "541eea62-38a7-42aa-9bab-b58b4be019d9",
   "metadata": {},
   "source": [
    "# Q:1"
   ]
  },
  {
   "cell_type": "code",
   "execution_count": 2,
   "id": "3a5f6817-6e16-4807-9a6f-585cef832ea5",
   "metadata": {},
   "outputs": [
    {
     "name": "stdout",
     "output_type": "stream",
     "text": [
      "('Virat Kohli', 24936)\n",
      "('Jack Kallis', 25534)\n",
      "('Ricky Ponting', 27483)\n",
      "('Sachin Tendulkar', 34357)\n"
     ]
    }
   ],
   "source": [
    "data = [('Sachin Tendulkar', 34357), ('Ricky Ponting', 27483), ('Jack Kallis', 25534), ('Virat Kohli', 24936)]\n",
    "sorted_data = sorted(data, key=lambda x: x[1])\n",
    "for item in sorted_data:\n",
    "    print(item)"
   ]
  },
  {
   "cell_type": "markdown",
   "id": "7f7c9630-a731-4583-bae0-ec86e566a754",
   "metadata": {},
   "source": [
    "# Q:2"
   ]
  },
  {
   "cell_type": "code",
   "execution_count": 3,
   "id": "d26c42b0-54f0-4cc7-ba3e-9c2d86893e24",
   "metadata": {},
   "outputs": [
    {
     "name": "stdout",
     "output_type": "stream",
     "text": [
      "[1, 4, 9, 16, 25, 36, 49, 64, 81, 100]\n"
     ]
    }
   ],
   "source": [
    "numbers = [1, 2, 3, 4, 5, 6, 7, 8, 9, 10]\n",
    "squares = list(map(lambda x: x ** 2, numbers))\n",
    "print(squares)"
   ]
  },
  {
   "cell_type": "markdown",
   "id": "baa1ba68-6c71-4dbb-a380-2f424731dee4",
   "metadata": {},
   "source": [
    "# Q:3"
   ]
  },
  {
   "cell_type": "code",
   "execution_count": 4,
   "id": "87a04662-3f3e-47d8-893c-62cbfce55969",
   "metadata": {},
   "outputs": [
    {
     "name": "stdout",
     "output_type": "stream",
     "text": [
      "('1', '2', '3', '4', '5', '6', '7', '8', '9', '10')\n"
     ]
    }
   ],
   "source": [
    "numbers = [1, 2, 3, 4, 5, 6, 7, 8, 9, 10]\n",
    "string_tuple = tuple(map(lambda x: str(x), numbers))\n",
    "print(string_tuple)"
   ]
  },
  {
   "cell_type": "markdown",
   "id": "3a9d7313-f905-40e6-ae9d-f027c597d7a1",
   "metadata": {},
   "source": [
    "# Q:4"
   ]
  },
  {
   "cell_type": "code",
   "execution_count": 5,
   "id": "1691157a-6ffd-4971-8d29-eb95116c8257",
   "metadata": {},
   "outputs": [
    {
     "name": "stdout",
     "output_type": "stream",
     "text": [
      "The product of numbers from 1 to 25 is: 15511210043330985984000000\n"
     ]
    }
   ],
   "source": [
    "from functools import reduce\n",
    "numbers = list(range(1, 26))\n",
    "def multiply(x, y):\n",
    "    return x * y\n",
    "product = reduce(multiply, numbers)\n",
    "print(\"The product of numbers from 1 to 25 is:\", product)"
   ]
  },
  {
   "cell_type": "markdown",
   "id": "9f59faae-fda9-47c1-a431-2ff3909872c5",
   "metadata": {},
   "source": [
    "# Q:5"
   ]
  },
  {
   "cell_type": "code",
   "execution_count": 6,
   "id": "e0b62aa4-3463-443d-9be3-4d9cb5a2aea9",
   "metadata": {},
   "outputs": [
    {
     "name": "stdout",
     "output_type": "stream",
     "text": [
      "Numbers divisible by 2 and 3: [6, 60, 90, 120]\n"
     ]
    }
   ],
   "source": [
    "numbers = [2, 3, 6, 9, 27, 60, 90, 120, 55, 46]\n",
    "def is_divisible_by_2_and_3(number):\n",
    "    return number % 2 == 0 and number % 3 == 0\n",
    "filtered_numbers = list(filter(is_divisible_by_2_and_3, numbers))\n",
    "print(\"Numbers divisible by 2 and 3:\", filtered_numbers)"
   ]
  },
  {
   "cell_type": "markdown",
   "id": "e20f83ee-4989-4dbd-a222-074b96f43515",
   "metadata": {},
   "source": [
    "# Q:6"
   ]
  },
  {
   "cell_type": "code",
   "execution_count": 7,
   "id": "5549562f-3445-445e-bc45-a2ea6150dd80",
   "metadata": {},
   "outputs": [
    {
     "name": "stdout",
     "output_type": "stream",
     "text": [
      "Palindromes in the list: ['php', 'aba', 'radar', 'level']\n"
     ]
    }
   ],
   "source": [
    "words = ['python', 'php', 'aba', 'radar', 'level']\n",
    "is_palindrome = lambda s: s == s[::-1]\n",
    "palindromes = list(filter(is_palindrome, words))\n",
    "print(\"Palindromes in the list:\", palindromes)"
   ]
  },
  {
   "cell_type": "code",
   "execution_count": null,
   "id": "517bb368-c856-4092-b3d6-0c99f4d0900f",
   "metadata": {},
   "outputs": [],
   "source": []
  }
 ],
 "metadata": {
  "kernelspec": {
   "display_name": "Python 3 (ipykernel)",
   "language": "python",
   "name": "python3"
  },
  "language_info": {
   "codemirror_mode": {
    "name": "ipython",
    "version": 3
   },
   "file_extension": ".py",
   "mimetype": "text/x-python",
   "name": "python",
   "nbconvert_exporter": "python",
   "pygments_lexer": "ipython3",
   "version": "3.10.8"
  }
 },
 "nbformat": 4,
 "nbformat_minor": 5
}
