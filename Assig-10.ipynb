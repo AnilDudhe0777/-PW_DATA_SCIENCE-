{
 "cells": [
  {
   "cell_type": "markdown",
   "id": "2334f883-4e4e-4150-86d8-8870a2e5e2dd",
   "metadata": {},
   "source": [
    " # Q1 hat is multithreading in python? hy is it used? Name the module used to handle threads in python"
   ]
  },
  {
   "cell_type": "markdown",
   "id": "1b06e3dc-679b-4e4a-946d-959dfa14376b",
   "metadata": {},
   "source": [
    "Multithreading in Python refers to the ability of a program to manage multiple threads that can execute independently and concurrently within the same \n",
    "process. Threads are a way for a program to divide itself into two or more simultaneously running tasks. Each thread shares the same memory space, \n",
    "allowing for more efficient resource utilization and improved performance for tasks that can be executed concurrently.\n",
    "\n",
    "Multithreading is used to achieve parallelism and to improve the responsiveness of applications that involve tasks that can be executed independently.\n",
    "It is particularly useful for tasks that involve I/O operations, such as reading and writing files, network operations, and interacting with a user \n",
    "interface. By using multithreading, you can ensure that the CPU is utilized efficiently, leading to faster execution times for certain types of\n",
    "operations.\n",
    "\n",
    "In Python, the threading module is used to handle threads. It provides a high-level interface for creating and managing threads, allowing you to \n",
    "implement multithreading capabilities in your Python programs. The threading module allows you to create new threads, start and stop them, and manage\n",
    "inter-thread communication and synchronization. By using this module, you can implement multithreading in your applications and take advantage of the \n",
    "benefits that concurrent execution offers."
   ]
  },
  {
   "cell_type": "markdown",
   "id": "454ca6c3-51db-4eaa-8739-353d8c5a170b",
   "metadata": {},
   "source": [
    "# Q2 Why threading module used? rite the use of the following functions  i)activeCount ii)currentThread iii)enumerate"
   ]
  },
  {
   "cell_type": "markdown",
   "id": "830763ab-b09e-40cd-8f90-7d8d1e6f34b2",
   "metadata": {},
   "source": [
    "The threading module in Python is used to create and manage threads within a Python program. It provides a high-level interface for working with\n",
    "threads, allowing developers to create and manage multiple threads that can run concurrently within a process. The threading module is used to \n",
    "implement multithreading, which can be beneficial for improving the performance and responsiveness of certain types of applications, especially \n",
    "those involving I/O operations or tasks that can run independently."
   ]
  },
  {
   "cell_type": "markdown",
   "id": "e571de29-e733-4bcb-a02a-199718129c45",
   "metadata": {},
   "source": [
    "a) activeCount(): This function is used to get the number of currently active Thread objects. It returns the number of Thread objects that \n",
    "are currently alive."
   ]
  },
  {
   "cell_type": "code",
   "execution_count": 1,
   "id": "aa58faf4-a88a-4743-8c4a-b011bc7d03fc",
   "metadata": {},
   "outputs": [
    {
     "name": "stdout",
     "output_type": "stream",
     "text": [
      "Active thread count: 9\n",
      "Active thread count: 9\n"
     ]
    },
    {
     "name": "stderr",
     "output_type": "stream",
     "text": [
      "/tmp/ipykernel_1566/2293368526.py:5: DeprecationWarning: activeCount() is deprecated, use active_count() instead\n",
      "  print(\"Active thread count:\", threading.activeCount())\n"
     ]
    }
   ],
   "source": [
    "import threading\n",
    "\n",
    "# Function to demonstrate the use of activeCount\n",
    "def print_active_count():\n",
    "    print(\"Active thread count:\", threading.activeCount())\n",
    "\n",
    "# Creating and starting threads\n",
    "t1 = threading.Thread(target=print_active_count)\n",
    "t2 = threading.Thread(target=print_active_count)\n",
    "t1.start()\n",
    "t2.start()"
   ]
  },
  {
   "cell_type": "markdown",
   "id": "75f7a8bf-0a28-434d-acf8-c9d6bad793ab",
   "metadata": {},
   "source": [
    "b) currentThread(): This function returns the Thread object corresponding to the current thread. It allows you to access the Thread object that\n",
    "represents the current thread of execution."
   ]
  },
  {
   "cell_type": "code",
   "execution_count": 2,
   "id": "ebab82e6-041b-43b9-a0a0-0b98ac6bfe6c",
   "metadata": {},
   "outputs": [
    {
     "name": "stdout",
     "output_type": "stream",
     "text": [
      "Current thread: <Thread(Thread-7 (print_current_thread), started 140480008394304)>\n"
     ]
    },
    {
     "name": "stderr",
     "output_type": "stream",
     "text": [
      "/tmp/ipykernel_1566/1088675086.py:5: DeprecationWarning: currentThread() is deprecated, use current_thread() instead\n",
      "  current = threading.currentThread()\n"
     ]
    }
   ],
   "source": [
    "import threading\n",
    "\n",
    "# Function to demonstrate the use of currentThread\n",
    "def print_current_thread():\n",
    "    current = threading.currentThread()\n",
    "    print(\"Current thread:\", current)\n",
    "\n",
    "# Creating and starting threads\n",
    "t1 = threading.Thread(target=print_current_thread)\n",
    "t1.start()\n"
   ]
  },
  {
   "cell_type": "markdown",
   "id": "27f0e325-5028-4b06-933f-1b916266b0b8",
   "metadata": {},
   "source": [
    "c) enumerate(): This function returns a list of all active Thread objects. It allows you to obtain a list of all Thread objects that \n",
    "are currently alive and running."
   ]
  },
  {
   "cell_type": "code",
   "execution_count": 2,
   "id": "9db2ed17-638b-4352-9059-e2767955def7",
   "metadata": {},
   "outputs": [
    {
     "name": "stdout",
     "output_type": "stream",
     "text": [
      "All threads: [<_MainThread(MainThread, started 140297017001792)>, <Thread(IOPub, started daemon 140296946472512)>, <Heartbeat(Heartbeat, started daemon 140296938079808)>, <Thread(Thread-3 (_watch_pipe_fd), started daemon 140296708941376)>, <Thread(Thread-4 (_watch_pipe_fd), started daemon 140296700548672)>, <ControlThread(Control, started daemon 140296692155968)>, <HistorySavingThread(IPythonHistorySavingThread, started 140296683763264)>, <ParentPollerUnix(Thread-2, started daemon 140296675370560)>, <Thread(Thread-7 (print_all_threads), started 140296666977856)>]\n",
      "All threads: [<_MainThread(MainThread, started 140297017001792)>, <Thread(IOPub, started daemon 140296946472512)>, <Heartbeat(Heartbeat, started daemon 140296938079808)>, <Thread(Thread-3 (_watch_pipe_fd), started daemon 140296708941376)>, <Thread(Thread-4 (_watch_pipe_fd), started daemon 140296700548672)>, <ControlThread(Control, started daemon 140296692155968)>, <HistorySavingThread(IPythonHistorySavingThread, started 140296683763264)>, <ParentPollerUnix(Thread-2, started daemon 140296675370560)>, <Thread(Thread-8 (print_all_threads), started 140296666977856)>]\n"
     ]
    }
   ],
   "source": [
    "import threading\n",
    "\n",
    "# Function to demonstrate the use of enumerate\n",
    "def print_all_threads():\n",
    "    all_threads = threading.enumerate()\n",
    "    print(\"All threads:\", all_threads)\n",
    "\n",
    "# Creating and starting threads\n",
    "t1 = threading.Thread(target=print_all_threads)\n",
    "t2 = threading.Thread(target=print_all_threads)\n",
    "t1.start()\n",
    "t2.start()"
   ]
  },
  {
   "cell_type": "markdown",
   "id": "145346c9-bd25-403b-9d44-4381fd3df63b",
   "metadata": {},
   "source": [
    "# 3. Explain the following functions (1) run (2) start (3) join (4)isAlive"
   ]
  },
  {
   "cell_type": "code",
   "execution_count": 3,
   "id": "9de295a7-2ba5-4f15-aa42-bdac3046a0a3",
   "metadata": {},
   "outputs": [
    {
     "name": "stdout",
     "output_type": "stream",
     "text": [
      "Thread is running\n"
     ]
    }
   ],
   "source": [
    "# Run\n",
    "\n",
    "import threading\n",
    "\n",
    "class MyThread(threading.Thread):\n",
    "    def run(self):\n",
    "        print(\"Thread is running\")\n",
    "\n",
    "# Creating and starting the thread\n",
    "t = MyThread()\n",
    "t.start()\n"
   ]
  },
  {
   "cell_type": "code",
   "execution_count": 4,
   "id": "d3d08912-c877-4557-bdf9-e34895c4d5f2",
   "metadata": {},
   "outputs": [
    {
     "name": "stdout",
     "output_type": "stream",
     "text": [
      "0\n",
      "1\n",
      "2\n",
      "3\n",
      "4\n"
     ]
    }
   ],
   "source": [
    "# start\n",
    "\n",
    "import threading\n",
    "\n",
    "def print_numbers():\n",
    "    for i in range(5):\n",
    "        print(i)\n",
    "\n",
    "# Creating and starting the thread\n",
    "t = threading.Thread(target=print_numbers)\n",
    "t.start()\n"
   ]
  },
  {
   "cell_type": "code",
   "execution_count": 5,
   "id": "f92b312c-945e-4ded-9b17-7133f64c3ddc",
   "metadata": {},
   "outputs": [
    {
     "name": "stdout",
     "output_type": "stream",
     "text": [
      "0\n",
      "1\n",
      "2\n",
      "3\n",
      "4\n"
     ]
    }
   ],
   "source": [
    "# join\n",
    "\n",
    "import threading\n",
    "\n",
    "def print_numbers():\n",
    "    for i in range(5):\n",
    "        print(i)\n",
    "\n",
    "# Creating and starting the thread\n",
    "t = threading.Thread(target=print_numbers)\n",
    "t.start()\n",
    "\n",
    "# Using join to wait for the thread to complete\n",
    "t.join()\n"
   ]
  },
  {
   "cell_type": "code",
   "execution_count": 6,
   "id": "88427a4b-997a-45fc-ad2c-21b77ef99fcd",
   "metadata": {},
   "outputs": [
    {
     "name": "stdout",
     "output_type": "stream",
     "text": [
      "0\n",
      "1\n",
      "2\n"
     ]
    },
    {
     "ename": "AttributeError",
     "evalue": "'Thread' object has no attribute 'isAlive'",
     "output_type": "error",
     "traceback": [
      "\u001b[0;31m---------------------------------------------------------------------------\u001b[0m",
      "\u001b[0;31mAttributeError\u001b[0m                            Traceback (most recent call last)",
      "Cell \u001b[0;32mIn[6], line 17\u001b[0m\n\u001b[1;32m     15\u001b[0m \u001b[38;5;66;03m# Checking if the thread is alive\u001b[39;00m\n\u001b[1;32m     16\u001b[0m time\u001b[38;5;241m.\u001b[39msleep(\u001b[38;5;241m2\u001b[39m)  \u001b[38;5;66;03m# Waiting for 2 seconds\u001b[39;00m\n\u001b[0;32m---> 17\u001b[0m \u001b[38;5;28;01mif\u001b[39;00m \u001b[43mt\u001b[49m\u001b[38;5;241;43m.\u001b[39;49m\u001b[43misAlive\u001b[49m():\n\u001b[1;32m     18\u001b[0m     \u001b[38;5;28mprint\u001b[39m(\u001b[38;5;124m\"\u001b[39m\u001b[38;5;124mThread is still running\u001b[39m\u001b[38;5;124m\"\u001b[39m)\n\u001b[1;32m     19\u001b[0m \u001b[38;5;28;01melse\u001b[39;00m:\n",
      "\u001b[0;31mAttributeError\u001b[0m: 'Thread' object has no attribute 'isAlive'"
     ]
    },
    {
     "name": "stdout",
     "output_type": "stream",
     "text": [
      "3\n",
      "4\n"
     ]
    }
   ],
   "source": [
    "# isAlive \n",
    "\n",
    "import threading\n",
    "import time\n",
    "\n",
    "def print_numbers():\n",
    "    for i in range(5):\n",
    "        print(i)\n",
    "        time.sleep(1)\n",
    "\n",
    "# Creating and starting the thread\n",
    "t = threading.Thread(target=print_numbers)\n",
    "t.start()\n",
    "\n",
    "# Checking if the thread is alive\n",
    "time.sleep(2)  # Waiting for 2 seconds\n",
    "if t.isAlive():\n",
    "    print(\"Thread is still running\")\n",
    "else:\n",
    "    print(\"Thread has completed\")"
   ]
  },
  {
   "cell_type": "markdown",
   "id": "13d61c25-2fc7-4abc-b715-55566fb4c266",
   "metadata": {},
   "source": [
    "# Q4. Write a python program to create two threads. Thread one must print the list of squares and thread two must print the list of cubes"
   ]
  },
  {
   "cell_type": "code",
   "execution_count": 7,
   "id": "d59c673d-3c6c-4085-90fd-c41f7ea5c88d",
   "metadata": {},
   "outputs": [
    {
     "name": "stdout",
     "output_type": "stream",
     "text": [
      "List of squares:\n",
      "1 squared is 1\n",
      "2 squared is 4\n",
      "3 squared is 9\n",
      "4 squared is 16\n",
      "5 squared is 25\n",
      "List of cubes:\n",
      "1 cubed is 1\n",
      "2 cubed is 8\n",
      "3 cubed is 27\n",
      "4 cubed is 64\n",
      "5 cubed is 125\n"
     ]
    }
   ],
   "source": [
    "import threading\n",
    "\n",
    "# Function to print squares\n",
    "def print_squares():\n",
    "    print(\"List of squares:\")\n",
    "    for i in range(1, 6):\n",
    "        print(f\"{i} squared is {i**2}\")\n",
    "\n",
    "# Function to print cubes\n",
    "def print_cubes():\n",
    "    print(\"List of cubes:\")\n",
    "    for i in range(1, 6):\n",
    "        print(f\"{i} cubed is {i**3}\")\n",
    "\n",
    "# Creating and starting the threads\n",
    "thread1 = threading.Thread(target=print_squares)\n",
    "thread2 = threading.Thread(target=print_cubes)\n",
    "\n",
    "thread1.start()\n",
    "thread2.start()"
   ]
  },
  {
   "cell_type": "markdown",
   "id": "09103459-88c9-4a48-bcfd-ded90eddda3e",
   "metadata": {},
   "source": [
    "# Q5. State advantages and disadvantages of multithreading"
   ]
  },
  {
   "cell_type": "markdown",
   "id": "795207f4-55df-41d1-8932-6b838ab165e4",
   "metadata": {},
   "source": [
    "Advantages of Multithreading:\n",
    "Improved Responsiveness: Multithreading allows applications to remain responsive even when performing computationally intensive tasks, ensuring \n",
    "that the user interface remains active and doesn't freeze.\n",
    "\n",
    "Resource Sharing: Threads share the same memory space, enabling efficient resource sharing and communication between different parts of the program.\n",
    "\n",
    "Faster Execution: Multithreading can improve the performance of an application, especially for tasks that can be executed concurrently, thereby \n",
    "reducing overall execution time.\n",
    "\n",
    "Economical: It can be more economical to create multiple threads for handling tasks rather than creating multiple processes, as threads within\n",
    "the same process share resources, resulting in less overhead.\n",
    "\n",
    "Simplified Design: Multithreading can simplify the design of certain applications, especially those that involve concurrent I/O operations, by \n",
    "allowing these operations to be executed simultaneously.\n",
    "\n",
    "Disadvantages of Multithreading:\n",
    "Complexity: Multithreaded programs can be more complex to design, implement, and debug, especially when dealing with issues like race conditions, \n",
    "deadlocks, and synchronization problems.\n",
    "\n",
    "Resource Contentions: Threads sharing resources can lead to contentions, where multiple threads compete for the same resources, potentially resulting\n",
    "in inefficiencies or unexpected behaviors.\n",
    "\n",
    "Difficult to Debug: Debugging multithreaded programs can be challenging, as issues related to race conditions and synchronization may not be easily\n",
    "reproducible and can be difficult to identify and fix.\n",
    "\n",
    "Overhead: Multithreading introduces overhead related to thread management and synchronization, which can impact the overall performance of the \n",
    "application.\n",
    "\n",
    "Security Risks: Shared memory can potentially introduce security risks, as one thread might access or modify data that another thread is using, \n",
    "leading to data inconsistency or corruption."
   ]
  },
  {
   "cell_type": "markdown",
   "id": "b0220bbf-fe50-4eb8-879f-050e6cc448fe",
   "metadata": {},
   "source": [
    "# Q6. Explain deadlocks and race conditions."
   ]
  },
  {
   "cell_type": "markdown",
   "id": "5eaf975d-64ec-4671-871b-fbbea7804ab3",
   "metadata": {},
   "source": [
    "Deadlocks:\n",
    "A deadlock occurs when two or more threads or processes are unable to proceed because each is waiting for the other to release a resource. \n",
    "In other words, each thread holds a resource and is waiting to acquire a resource held by another thread, resulting in a situation where none of the threads can continue. Deadlocks can lead to a complete halt of the program, resulting in unresponsive or frozen behavior.\n",
    "\n",
    "Race Conditions:\n",
    "A race condition occurs when the behavior of a program depends on the relative timing or interleaving of multiple threads or processes. \n",
    "Specifically, the result of the execution is dependent on the order in which the threads are scheduled to run. Race conditions can lead to \n",
    "inconsistent or erroneous results if proper synchronization mechanisms are not implemented. These issues can arise when multiple threads access\n",
    "and modify shared resources without proper synchronization or control.\n",
    "\n",
    "Here's a brief comparison between deadlocks and race conditions:\n",
    "\n",
    "Cause: Deadlocks are caused by circular dependencies between two or more threads waiting for each other to release resources. Race conditions, \n",
    "on the other hand, occur due to the non-deterministic and unpredictable order of execution of threads, leading to unexpected results.\n",
    "\n",
    "Effect: Deadlocks result in a complete halt of the program, leading to unresponsiveness. Race conditions can lead to inconsistent data or erroneous \n",
    "outcomes that may be difficult to reproduce and debug.\n",
    "\n",
    "Prevention: Deadlocks can be prevented by ensuring that resources are allocated in a way that prevents circular waiting. Race conditions can be \n",
    "prevented by implementing proper synchronization mechanisms, such as locks, semaphores, or monitors, to control access to shared resources."
   ]
  },
  {
   "cell_type": "code",
   "execution_count": null,
   "id": "db710032-e7b1-4e83-9490-3a20eea6e064",
   "metadata": {},
   "outputs": [],
   "source": []
  }
 ],
 "metadata": {
  "kernelspec": {
   "display_name": "Python 3 (ipykernel)",
   "language": "python",
   "name": "python3"
  },
  "language_info": {
   "codemirror_mode": {
    "name": "ipython",
    "version": 3
   },
   "file_extension": ".py",
   "mimetype": "text/x-python",
   "name": "python",
   "nbconvert_exporter": "python",
   "pygments_lexer": "ipython3",
   "version": "3.10.8"
  }
 },
 "nbformat": 4,
 "nbformat_minor": 5
}
