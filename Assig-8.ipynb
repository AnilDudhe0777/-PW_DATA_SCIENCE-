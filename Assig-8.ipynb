{
 "cells": [
  {
   "cell_type": "markdown",
   "id": "0b425b4f-f3c3-4024-bf86-f09f28806014",
   "metadata": {},
   "source": [
    "# Q1  what is Exception in python ? Write the difference, between Exceptions and Syntax error"
   ]
  },
  {
   "cell_type": "markdown",
   "id": "dbfae99a-29b2-4062-b6f5-ad394e310e1f",
   "metadata": {},
   "source": [
    "-In Python, an exception is an event that occurs during the execution of a program that disrupts the normal flow of the program's instructions. \n",
    "When an error occurs, Python generates an exception that can be handled, avoiding the program from crashing. Exceptions can occur for various \n",
    "reasons, such as an error in the code or an external factor like the unavailability of a resource.\n",
    "\n",
    "-Syntax errors, on the other hand, are a type of error that occurs when the Python interpreter is unable to understand the code due to grammatical \n",
    "mistakes. These errors typically occur during the parsing of the code and are often caused by mistakes like misspelled keywords, missing punctuation,\n",
    "or incorrect indentation."
   ]
  },
  {
   "cell_type": "markdown",
   "id": "66c62832-f16a-4dca-83de-14201726b018",
   "metadata": {},
   "source": [
    "Exceptions:\n",
    "\n",
    "Occur during the execution of the program.\n",
    "Disrupt the normal flow of the program's instructions.\n",
    "Can be caught and handled with proper error handling mechanisms (try-except blocks).\n",
    "Examples of exceptions in Python include ZeroDivisionError, ValueError, and FileNotFoundError."
   ]
  },
  {
   "cell_type": "markdown",
   "id": "9c0764ac-0aab-4570-a64d-1e1f92b9fa46",
   "metadata": {},
   "source": [
    "Syntax Errors:\n",
    "\n",
    "Occur during the parsing of the code before the execution.\n",
    "Arise due to grammatical mistakes in the code, such as misspelled keywords, missing punctuation, or incorrect indentation.\n",
    "Prevent the interpreter from understanding and executing the code.\n",
    "Must be fixed before the program can run."
   ]
  },
  {
   "cell_type": "markdown",
   "id": "099ee8f3-6969-455f-b37c-6853870b5ebd",
   "metadata": {},
   "source": [
    "# Q2 what happen when Exception is not handled ?  Explain  with Example ?"
   ]
  },
  {
   "cell_type": "markdown",
   "id": "3eb7a161-0e71-4aa5-a7e3-6edb1b4d4571",
   "metadata": {},
   "source": [
    "When an exception is not handled in a program, it typically leads to a termination of the program's execution. \n",
    "This can result in the display of an error message to the user, or the program may crash altogether. Unhandled exceptions \n",
    "can make the program behave unexpectedly, and in the worst-case scenario, they can cause data loss or corruption. It is essential \n",
    "to handle exceptions appropriately to ensure that the program can gracefully recover from errors and continue functioning."
   ]
  },
  {
   "cell_type": "code",
   "execution_count": 1,
   "id": "b54ee846-6c4c-4954-bd7f-0bee04bbe5b8",
   "metadata": {},
   "outputs": [
    {
     "ename": "ZeroDivisionError",
     "evalue": "division by zero",
     "output_type": "error",
     "traceback": [
      "\u001b[0;31m---------------------------------------------------------------------------\u001b[0m",
      "\u001b[0;31mZeroDivisionError\u001b[0m                         Traceback (most recent call last)",
      "Cell \u001b[0;32mIn[1], line 11\u001b[0m\n\u001b[1;32m      8\u001b[0m denominator \u001b[38;5;241m=\u001b[39m \u001b[38;5;241m0\u001b[39m\n\u001b[1;32m     10\u001b[0m \u001b[38;5;66;03m# Trying to divide by zero without handling the exception\u001b[39;00m\n\u001b[0;32m---> 11\u001b[0m result \u001b[38;5;241m=\u001b[39m \u001b[43mdivide_numbers\u001b[49m\u001b[43m(\u001b[49m\u001b[43mnumerator\u001b[49m\u001b[43m,\u001b[49m\u001b[43m \u001b[49m\u001b[43mdenominator\u001b[49m\u001b[43m)\u001b[49m\n\u001b[1;32m     12\u001b[0m \u001b[38;5;28mprint\u001b[39m(\u001b[38;5;124m\"\u001b[39m\u001b[38;5;124mResult: \u001b[39m\u001b[38;5;124m\"\u001b[39m, result)  \u001b[38;5;66;03m# This line will not be reached due to the unhandled exception\u001b[39;00m\n",
      "Cell \u001b[0;32mIn[1], line 4\u001b[0m, in \u001b[0;36mdivide_numbers\u001b[0;34m(a, b)\u001b[0m\n\u001b[1;32m      3\u001b[0m \u001b[38;5;28;01mdef\u001b[39;00m \u001b[38;5;21mdivide_numbers\u001b[39m(a, b):\n\u001b[0;32m----> 4\u001b[0m     \u001b[38;5;28;01mreturn\u001b[39;00m \u001b[43ma\u001b[49m\u001b[43m \u001b[49m\u001b[38;5;241;43m/\u001b[39;49m\u001b[43m \u001b[49m\u001b[43mb\u001b[49m\n",
      "\u001b[0;31mZeroDivisionError\u001b[0m: division by zero"
     ]
    }
   ],
   "source": [
    "# Example of an unhandled exception in Python\n",
    "\n",
    "def divide_numbers(a, b):\n",
    "    return a / b\n",
    "\n",
    "# Input values\n",
    "numerator = 10\n",
    "denominator = 0\n",
    "\n",
    "# Trying to divide by zero without handling the exception\n",
    "result = divide_numbers(numerator, denominator)\n",
    "print(\"Result: \", result)  # This line will not be reached due to the unhandled exception\n"
   ]
  },
  {
   "cell_type": "markdown",
   "id": "12cfc27c-ed3a-4dc3-801b-29d0bee6d9cb",
   "metadata": {},
   "source": [
    "In this example, the divide_numbers function attempts to divide two numbers. However, when the variable denominator is set to 0, a ZeroDivisionError \n",
    "is raised. Since there is no code to handle this specific exception, the program will stop executing at this point, and an error message will be\n",
    "displayed, indicating the ZeroDivisionError.\n",
    "\n",
    "To handle this exception, you can use a try-except block to catch the specific exception and handle it accordingly. Here's the modified version \n",
    "of the code:"
   ]
  },
  {
   "cell_type": "code",
   "execution_count": 2,
   "id": "337fbe9a-dd83-4f91-913e-831c14a41514",
   "metadata": {},
   "outputs": [
    {
     "name": "stdout",
     "output_type": "stream",
     "text": [
      "Error:  division by zero\n"
     ]
    }
   ],
   "source": [
    "# Example of handling an exception in Python\n",
    "\n",
    "def divide_numbers(a, b):\n",
    "    try:\n",
    "        return a / b\n",
    "    except ZeroDivisionError as e:\n",
    "        print(\"Error: \", e)\n",
    "        return None\n",
    "\n",
    "# Input values\n",
    "numerator = 10\n",
    "denominator = 0\n",
    "\n",
    "# Handling the exception\n",
    "result = divide_numbers(numerator, denominator)\n",
    "if result is not None:\n",
    "    print(\"Result: \", result)\n"
   ]
  },
  {
   "cell_type": "markdown",
   "id": "df8550d4-9f8e-403f-bc27-1779f6577b56",
   "metadata": {},
   "source": [
    "# Q3 which Python Statement is used to catch & Handled Exception? Explain with Example ? "
   ]
  },
  {
   "cell_type": "markdown",
   "id": "423defb2-951e-4a5c-ab93-c149fe948d4e",
   "metadata": {},
   "source": [
    "In Python, the try statement is used to catch and handle exceptions. It allows you to define a block of code in which exceptions can occur. \n",
    "Within the try block, you can also use the except statement to specify which type of exception you want to handle. This enables you to execute\n",
    "specific code to handle the exception gracefully, preventing the program from crashing."
   ]
  },
  {
   "cell_type": "code",
   "execution_count": 3,
   "id": "1bb31af3-f500-4b71-9d26-bce413f3fb8e",
   "metadata": {},
   "outputs": [
    {
     "name": "stdout",
     "output_type": "stream",
     "text": [
      "Error:  division by zero\n"
     ]
    }
   ],
   "source": [
    "# Example of using try and except in Python\n",
    "\n",
    "def divide_numbers(a, b):\n",
    "    try:\n",
    "        return a / b\n",
    "    except ZeroDivisionError as e:\n",
    "        print(\"Error: \", e)\n",
    "        return None\n",
    "\n",
    "# Input values\n",
    "numerator = 10\n",
    "denominator = 0\n",
    "\n",
    "# Handling the exception\n",
    "result = divide_numbers(numerator, denominator)\n",
    "if result is not None:\n",
    "    print(\"Result: \", result)\n"
   ]
  },
  {
   "cell_type": "markdown",
   "id": "eb0e4cb4-e820-4ef4-b3ce-d73feeb54b07",
   "metadata": {},
   "source": [
    "In this example, the try block contains the code that may raise an exception, which is the division operation a / b. The except block is used to \n",
    "catch the ZeroDivisionError specifically. When this error occurs, the error message Error: along with the specific error message is printed, and\n",
    "the function returns None. This ensures that the program does not crash due to the unhandled exception.\n",
    "\n",
    "By utilizing the try and except statements, you can handle exceptions in a controlled manner, allowing your program to gracefully handle errors\n",
    "and continue execution without interruptions. You can also use multiple except blocks to handle different types of exceptions or a single except \n",
    "block without specifying the type to catch all possible exceptions."
   ]
  },
  {
   "cell_type": "markdown",
   "id": "7aeec4e2-9b98-4b0f-aff0-b99d853a80a9",
   "metadata": {},
   "source": [
    "# Q4 Explain with Example a)try & else  b)finally   c)raise"
   ]
  },
  {
   "cell_type": "markdown",
   "id": "986fbded-f099-4aaf-b7c6-45ddac05ca0b",
   "metadata": {},
   "source": [
    "a) try with else:"
   ]
  },
  {
   "cell_type": "code",
   "execution_count": 4,
   "id": "9a3ad6ad-f0ad-4b85-ae40-8e0ee4b2fbd5",
   "metadata": {},
   "outputs": [
    {
     "name": "stdout",
     "output_type": "stream",
     "text": [
      "The division result is: 5.0\n",
      "Error: Division by zero is not allowed.\n"
     ]
    }
   ],
   "source": [
    "# Example of try with else in Python\n",
    "\n",
    "def division(a, b):\n",
    "    try:\n",
    "        result = a / b\n",
    "    except ZeroDivisionError:\n",
    "        print(\"Error: Division by zero is not allowed.\")\n",
    "    else:\n",
    "        print(\"The division result is:\", result)\n",
    "\n",
    "# Example usage\n",
    "division(10, 2)  # Output: The division result is: 5.0\n",
    "division(10, 0)  # Output: Error: Division by zero is not allowed.\n"
   ]
  },
  {
   "cell_type": "markdown",
   "id": "a8a895aa-57fe-480b-83f4-4bee9536c75a",
   "metadata": {},
   "source": [
    "b) finally:"
   ]
  },
  {
   "cell_type": "code",
   "execution_count": 5,
   "id": "0d6fd5c6-7e31-4bfc-a5e4-e0d99c227a98",
   "metadata": {},
   "outputs": [
    {
     "name": "stdout",
     "output_type": "stream",
     "text": [
      "The division result is: 5.0\n",
      "This is the 'finally' block that always executes.\n",
      "Error: Division by zero is not allowed.\n",
      "This is the 'finally' block that always executes.\n"
     ]
    }
   ],
   "source": [
    "# Example of using finally in Python\n",
    "\n",
    "def divide_numbers(a, b):\n",
    "    try:\n",
    "        result = a / b\n",
    "        print(\"The division result is:\", result)\n",
    "    except ZeroDivisionError:\n",
    "        print(\"Error: Division by zero is not allowed.\")\n",
    "    finally:\n",
    "        print(\"This is the 'finally' block that always executes.\")\n",
    "\n",
    "# Example usage\n",
    "divide_numbers(10, 2)  # Output: The division result is: 5.0 \\n This is the 'finally' block that always executes.\n",
    "divide_numbers(10, 0)  # Output: Error: Division by zero is not allowed. \\n This is the 'finally' block that always executes.\n"
   ]
  },
  {
   "cell_type": "markdown",
   "id": "dedc1f78-0daf-4378-9467-9d252f9e5d0a",
   "metadata": {},
   "source": [
    "c) raise:"
   ]
  },
  {
   "cell_type": "code",
   "execution_count": 6,
   "id": "335996db-1bd6-46a1-ac71-0817c6ca10f3",
   "metadata": {},
   "outputs": [
    {
     "name": "stdout",
     "output_type": "stream",
     "text": [
      "Error: Age cannot be negative.\n"
     ]
    }
   ],
   "source": [
    "# Example of using raise in Python\n",
    "\n",
    "def check_age(age):\n",
    "    if age < 0:\n",
    "        raise ValueError(\"Age cannot be negative.\")\n",
    "    elif age < 18:\n",
    "        raise ValueError(\"You must be 18 or older.\")\n",
    "    else:\n",
    "        print(\"You are eligible.\")\n",
    "\n",
    "# Example usage\n",
    "try:\n",
    "    check_age(-5)\n",
    "except ValueError as e:\n",
    "    print(\"Error:\", e)\n"
   ]
  },
  {
   "cell_type": "markdown",
   "id": "8ce8c452-f5f3-4b96-9fba-09e197fd0f78",
   "metadata": {},
   "source": [
    "# Q5 What is custom Exception in python? why do we need custom Exception? Explain with Example ? "
   ]
  },
  {
   "cell_type": "markdown",
   "id": "74187cef-1bdb-4278-8955-5b9f32770d31",
   "metadata": {},
   "source": [
    "A custom exception in Python is an exception class that you define yourself by subclassing the built-in Exception class. You can create custom \n",
    "exceptions to handle specific error conditions that are not adequately represented by the built-in exceptions. By creating custom exceptions, \n",
    "you can provide more context and information about the specific type of error that occurred in your program.\n",
    "\n",
    "Custom exceptions are helpful in providing meaningful and descriptive error messages, making it easier to identify and handle specific error \n",
    "cases in your code. They can also help in organizing and categorizing different types of errors that may occur within your application."
   ]
  },
  {
   "cell_type": "code",
   "execution_count": 7,
   "id": "06415922-2b98-42e8-ba42-77c10f6c474d",
   "metadata": {},
   "outputs": [
    {
     "name": "stdout",
     "output_type": "stream",
     "text": [
      "Custom Error: Value cannot be negative.\n",
      "Custom Error: Value cannot be greater than 100.\n"
     ]
    }
   ],
   "source": [
    "# Example of custom exception in Python\n",
    "\n",
    "class CustomError(Exception):\n",
    "    \"\"\"Custom exception class.\"\"\"\n",
    "    def __init__(self, message):\n",
    "        self.message = message\n",
    "        super().__init__(self.message)\n",
    "\n",
    "def check_value(x):\n",
    "    if x < 0:\n",
    "        raise CustomError(\"Value cannot be negative.\")\n",
    "    elif x > 100:\n",
    "        raise CustomError(\"Value cannot be greater than 100.\")\n",
    "    else:\n",
    "        print(\"Value is valid.\")\n",
    "\n",
    "# Example usage\n",
    "try:\n",
    "    check_value(-5)\n",
    "except CustomError as e:\n",
    "    print(\"Custom Error:\", e)\n",
    "\n",
    "try:\n",
    "    check_value(150)\n",
    "except CustomError as e:\n",
    "    print(\"Custom Error:\", e)\n"
   ]
  },
  {
   "cell_type": "markdown",
   "id": "6ecd0edb-7b42-40db-8aee-25c8c8dbb816",
   "metadata": {},
   "source": [
    "# Q6 Create a custom Exception class? use this class to handdle an Exception"
   ]
  },
  {
   "cell_type": "code",
   "execution_count": 8,
   "id": "4fc34fd0-c99e-4210-ae76-0fa865b1f843",
   "metadata": {},
   "outputs": [
    {
     "name": "stdout",
     "output_type": "stream",
     "text": [
      "Custom Exception: Invalid data type. Integer expected.\n"
     ]
    }
   ],
   "source": [
    "# Custom Exception class\n",
    "class CustomException(Exception):\n",
    "    \"\"\"Custom exception class.\"\"\"\n",
    "    def __init__(self, message):\n",
    "        self.message = message\n",
    "        super().__init__(self.message)\n",
    "\n",
    "# Function that raises the custom exception\n",
    "def process_data(data):\n",
    "    if not isinstance(data, int):\n",
    "        raise CustomException(\"Invalid data type. Integer expected.\")\n",
    "    else:\n",
    "        print(\"Data processing successful.\")\n",
    "\n",
    "# Handling the custom exception\n",
    "try:\n",
    "    process_data(\"123\")  # Passing a string instead of an integer\n",
    "except CustomException as e:\n",
    "    print(\"Custom Exception:\", e)\n"
   ]
  },
  {
   "cell_type": "code",
   "execution_count": null,
   "id": "e122b4d0-54f9-46a6-8531-4157f9314608",
   "metadata": {},
   "outputs": [],
   "source": []
  }
 ],
 "metadata": {
  "kernelspec": {
   "display_name": "Python 3 (ipykernel)",
   "language": "python",
   "name": "python3"
  },
  "language_info": {
   "codemirror_mode": {
    "name": "ipython",
    "version": 3
   },
   "file_extension": ".py",
   "mimetype": "text/x-python",
   "name": "python",
   "nbconvert_exporter": "python",
   "pygments_lexer": "ipython3",
   "version": "3.10.8"
  }
 },
 "nbformat": 4,
 "nbformat_minor": 5
}
