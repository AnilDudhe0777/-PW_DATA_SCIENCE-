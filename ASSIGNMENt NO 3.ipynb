{
 "cells": [
  {
   "cell_type": "markdown",
   "id": "08fc40d4-0aad-4b13-8203-1509c47da257",
   "metadata": {},
   "source": [
    "# Q:1"
   ]
  },
  {
   "cell_type": "markdown",
   "id": "a2e8c5a6-0ed3-4452-874b-ae54164d50a4",
   "metadata": {},
   "source": [
    "The \"def\" is used to create a Function in Python.\n",
    "\n",
    "syntax: def function_name():"
   ]
  },
  {
   "cell_type": "code",
   "execution_count": 22,
   "id": "5aadbdb3-2dd0-46e4-8334-d6ef20773fc5",
   "metadata": {},
   "outputs": [],
   "source": [
    "def odd_numbers_in_range(start, end):\n",
    "    odd_numbers = []\n",
    "    for num in range(start, end + 1):\n",
    "        if num % 2 != 0:\n",
    "            odd_numbers.append(num)\n",
    "    return odd_numbers"
   ]
  },
  {
   "cell_type": "code",
   "execution_count": 23,
   "id": "88236482-f74e-4748-9c1e-69b2795c00e2",
   "metadata": {},
   "outputs": [
    {
     "name": "stdout",
     "output_type": "stream",
     "text": [
      "[1, 3, 5, 7, 9, 11, 13, 15, 17, 19, 21, 23, 25]\n"
     ]
    }
   ],
   "source": [
    "result = odd_numbers_in_range(1, 25)\n",
    "print(result)"
   ]
  },
  {
   "cell_type": "markdown",
   "id": "e6501388-50fa-49d9-8164-4b74c8ab73a2",
   "metadata": {},
   "source": [
    "# Q:2"
   ]
  },
  {
   "cell_type": "markdown",
   "id": "0571175e-7d0e-4a4d-a417-d0e116c8c056",
   "metadata": {},
   "source": [
    "*args and **kwargs are special syntax in Python that allow a function to accept a variable number of arguments. \n",
    "They are often used when you want to create flexible functions that can take different numbers of arguments or keyword arguments.\n",
    "\n",
    "1)*args (Arbitrary Arguments):\n",
    "           *args is used to pass a variable-length list of non-keyword arguments to a function.It allows you to pass any \n",
    "number of positional arguments to the function, and these arguments are collected into a tuple.You can access the arguments \n",
    "within the function using the tuple."
   ]
  },
  {
   "cell_type": "code",
   "execution_count": 24,
   "id": "d74cb0e2-6866-48ac-9905-f13b28194431",
   "metadata": {},
   "outputs": [],
   "source": [
    "#Example\n",
    "def my_function(*args):\n",
    "    for arg in args:\n",
    "        print(arg)"
   ]
  },
  {
   "cell_type": "code",
   "execution_count": 26,
   "id": "0d0cb992-16f8-4ddf-99e2-9dd5348a7dfc",
   "metadata": {},
   "outputs": [
    {
     "name": "stdout",
     "output_type": "stream",
     "text": [
      "1\n",
      "2\n",
      "3\n",
      "4\n"
     ]
    }
   ],
   "source": [
    "my_function(1, 2, 3, 4)"
   ]
  },
  {
   "cell_type": "markdown",
   "id": "21cedb9f-4463-4378-bd6b-a86f9fd9be68",
   "metadata": {},
   "source": [
    "2)**kwargs (Keyword Arguments):\n",
    "\n",
    "**kwargs is used to pass a variable-length list of keyword arguments (key-value pairs) to a function.\n",
    "It allows you to pass any number of keyword arguments to the function, and these arguments are collected into a dictionary.\n",
    "You can access the arguments within the function using the dictionary."
   ]
  },
  {
   "cell_type": "code",
   "execution_count": 27,
   "id": "02f0093d-34b9-4229-bcc5-fca6ac9e2cb4",
   "metadata": {},
   "outputs": [],
   "source": [
    "def my_function(**kwargs):\n",
    "    for key, value in kwargs.items():\n",
    "        print(key, value)"
   ]
  },
  {
   "cell_type": "code",
   "execution_count": 28,
   "id": "c3f6ac8b-4e5b-4471-94c1-e8e6be2855ad",
   "metadata": {},
   "outputs": [
    {
     "name": "stdout",
     "output_type": "stream",
     "text": [
      "name John\n",
      "age 30\n",
      "city New York\n"
     ]
    }
   ],
   "source": [
    "my_function(name=\"John\", age=30, city=\"New York\")"
   ]
  },
  {
   "cell_type": "markdown",
   "id": "3e0f6a6b-7e2a-43d6-af8a-c81b306f7ffa",
   "metadata": {},
   "source": [
    "# Q:3"
   ]
  },
  {
   "cell_type": "markdown",
   "id": "46008c10-0a6b-4677-a247-061feb9f5f03",
   "metadata": {},
   "source": [
    "An iterator in Python is an object that represents a stream of data and is used to traverse or iterate over elements \n",
    "of that data stream one at a time. Iterators are an essential part of Python's iteration protocol, and they are used \n",
    "to implement iterable objects, such as lists, tuples, dictionaries, and more."
   ]
  },
  {
   "cell_type": "markdown",
   "id": "2b88da05-5f3a-451f-ae31-843d354e548a",
   "metadata": {},
   "source": [
    "Iterators have two primary methods:\n",
    "\n",
    "1)__iter__(): \n",
    "    This method returns the iterator object itself. It is called when you initialize an iterator using the \n",
    "    iter() function. In many cases, the __iter__() method simply returns self.\n",
    "\n",
    "2)__next__(): \n",
    "    This method returns the next element from the iterator. It is called to fetch the next value in \n",
    "the sequence. When there are no more items to return, it raises the StopIteration exception to signal the end of the iteration."
   ]
  },
  {
   "cell_type": "code",
   "execution_count": 30,
   "id": "6e06a0f2-dfed-42d9-81c8-47eaed4c9978",
   "metadata": {},
   "outputs": [],
   "source": [
    "class ListIterator:\n",
    "    def __init__(self, data):\n",
    "        self.data = data\n",
    "        self.index = 0\n",
    "\n",
    "    def __iter__(self):\n",
    "        return self\n",
    "\n",
    "    def __next__(self):\n",
    "        if self.index < len(self.data):\n",
    "            result = self.data[self.index]\n",
    "            self.index += 1\n",
    "            return result\n",
    "        else:\n",
    "            raise StopIteration"
   ]
  },
  {
   "cell_type": "code",
   "execution_count": 31,
   "id": "a6328903-bbf7-499d-be55-6ce3135541d6",
   "metadata": {},
   "outputs": [],
   "source": [
    "my_list = [2, 4, 6, 8, 10, 12, 14, 16, 18, 20]"
   ]
  },
  {
   "cell_type": "code",
   "execution_count": 32,
   "id": "1330e6ee-cb75-455b-9038-9d47811e6f62",
   "metadata": {},
   "outputs": [],
   "source": [
    "iterator = ListIterator(my_list)"
   ]
  },
  {
   "cell_type": "code",
   "execution_count": 33,
   "id": "710c6b02-aca6-461d-b22c-dcc755e6b7d2",
   "metadata": {},
   "outputs": [
    {
     "name": "stdout",
     "output_type": "stream",
     "text": [
      "2\n",
      "4\n",
      "6\n",
      "8\n",
      "10\n"
     ]
    }
   ],
   "source": [
    "for i in range(5):\n",
    "    element = next(iterator)\n",
    "    print(element)"
   ]
  },
  {
   "cell_type": "markdown",
   "id": "1545ff49-5a01-4c33-a510-f5d1b3bf33ce",
   "metadata": {},
   "source": [
    "# Q:4"
   ]
  },
  {
   "cell_type": "markdown",
   "id": "0339b726-8c84-4307-800b-608ccf9259e3",
   "metadata": {},
   "source": [
    "A generator function in Python is a special type of function that allows you to create iterators in a more concise \n",
    "and memory-efficient way. It uses the yield keyword to produce a series of values one at a time, allowing you to \n",
    "iterate over a potentially large sequence of values without storing them all in memory at once. Generators are particularly \n",
    "useful when dealing with large datasets or when you want to generate values on-the-fly.\n",
    "\n",
    "Here's why the yield keyword is used in generator functions:\n",
    "\n",
    "1)Saves Memory: Unlike regular functions that return a value and forget their state, generator functions maintain their state \n",
    "between calls. When a generator function encounters a yield statement, it yields the current value and then pauses, preserving its \n",
    "local state. This means you don't need to store the entire sequence of values in memory; you can produce and yield each value as needed.\n",
    "\n",
    "2)Lazy Evaluation: Generator functions use lazy evaluation, which means values are generated on-demand. \n",
    "They are only computed when requested, which can save processing time."
   ]
  },
  {
   "cell_type": "code",
   "execution_count": 35,
   "id": "5895c8c8-3987-4521-9132-476e9184fc12",
   "metadata": {},
   "outputs": [
    {
     "name": "stdout",
     "output_type": "stream",
     "text": [
      "0\n",
      "1\n",
      "2\n",
      "3\n",
      "4\n"
     ]
    }
   ],
   "source": [
    "#Example\n",
    "def number_generator(n):\n",
    "    for i in range(n):\n",
    "        yield i\n",
    "gen = number_generator(5)\n",
    "for num in gen:\n",
    "    print(num)\n"
   ]
  },
  {
   "cell_type": "markdown",
   "id": "24206492-c697-4af3-84ea-dc9421e88531",
   "metadata": {},
   "source": [
    "# Q:5"
   ]
  },
  {
   "cell_type": "code",
   "execution_count": 37,
   "id": "85b47298-6146-4f45-af45-0725b420302c",
   "metadata": {},
   "outputs": [
    {
     "name": "stdout",
     "output_type": "stream",
     "text": [
      "2\n",
      "3\n",
      "5\n",
      "7\n",
      "11\n",
      "13\n",
      "17\n",
      "19\n",
      "23\n",
      "29\n",
      "31\n",
      "37\n",
      "41\n",
      "43\n",
      "47\n",
      "53\n",
      "59\n",
      "61\n",
      "67\n",
      "71\n"
     ]
    }
   ],
   "source": [
    "def sieve_of_eratosthenes(limit):\n",
    "\n",
    "    is_prime = [True] * (limit + 1)\n",
    "    is_prime[0] = is_prime[1] = False  \n",
    "\n",
    "    for p in range(2, int(limit ** 0.5) + 1):\n",
    "        if is_prime[p]:\n",
    "            for i in range(p * p, limit + 1, p):\n",
    "                is_prime[i] = False\n",
    "\n",
    "    for p in range(2, limit + 1):\n",
    "        if is_prime[p]:\n",
    "            yield p\n",
    "\n",
    "\n",
    "prime_generator = sieve_of_eratosthenes(1000)\n",
    "for _ in range(20):\n",
    "    prime = next(prime_generator)\n",
    "    print(prime)\n"
   ]
  },
  {
   "cell_type": "markdown",
   "id": "67642f08-ab7b-464c-9c42-43077895041a",
   "metadata": {},
   "source": [
    "# Q:6"
   ]
  },
  {
   "cell_type": "code",
   "execution_count": 1,
   "id": "fd6edd78-636c-4720-8945-cffdbd63523d",
   "metadata": {},
   "outputs": [
    {
     "name": "stdout",
     "output_type": "stream",
     "text": [
      "0 1 1 2 3 5 8 13 21 34 "
     ]
    }
   ],
   "source": [
    "a,b=0,1\n",
    "count=0\n",
    "n=10\n",
    "while count<n:\n",
    "    print(a,end=' ')\n",
    "    a,b=b,a+b\n",
    "    count+=1"
   ]
  },
  {
   "cell_type": "markdown",
   "id": "769d4dae-91c6-4b25-ae13-e267ef7a2816",
   "metadata": {},
   "source": [
    "# Q:7"
   ]
  },
  {
   "cell_type": "code",
   "execution_count": 2,
   "id": "b340ee7e-ca14-4618-8477-406302467d21",
   "metadata": {},
   "outputs": [
    {
     "name": "stdout",
     "output_type": "stream",
     "text": [
      "['p', 'w', 's', 'k', 'i', 'l', 'l', 's']\n"
     ]
    }
   ],
   "source": [
    "input_string = 'pwskills'\n",
    "output_list = [char for char in input_string]\n",
    "print(output_list)"
   ]
  },
  {
   "cell_type": "markdown",
   "id": "99010a98-f97a-4a4d-ae83-bdca33fefc4d",
   "metadata": {},
   "source": [
    "# Q:8"
   ]
  },
  {
   "cell_type": "code",
   "execution_count": 3,
   "id": "2f6fd74a-eb37-4307-a2c8-b4e8c5142f79",
   "metadata": {},
   "outputs": [
    {
     "name": "stdin",
     "output_type": "stream",
     "text": [
      "Enter a number:  895623\n"
     ]
    },
    {
     "name": "stdout",
     "output_type": "stream",
     "text": [
      "895623 is not a palindrome.\n"
     ]
    }
   ],
   "source": [
    "def is_palindrome(number):\n",
    "    original_number = number\n",
    "    reverse_number = 0\n",
    "    \n",
    "    while number > 0:\n",
    "        remainder = number % 10\n",
    "        reverse_number = reverse_number * 10 + remainder\n",
    "        number = number // 10\n",
    "    \n",
    "    return original_number == reverse_number\n",
    "\n",
    "\n",
    "num = int(input(\"Enter a number: \"))\n",
    "\n",
    "\n",
    "if is_palindrome(num):\n",
    "    print(f\"{num} is a palindrome.\")\n",
    "else:\n",
    "    print(f\"{num} is not a palindrome.\")\n"
   ]
  },
  {
   "cell_type": "markdown",
   "id": "3086eb02-0956-4ee0-a0fe-228d6877dd68",
   "metadata": {},
   "source": [
    "# Q:9"
   ]
  },
  {
   "cell_type": "code",
   "execution_count": 4,
   "id": "84c628c2-0c51-435e-adf3-a77f4915ab48",
   "metadata": {},
   "outputs": [
    {
     "name": "stdout",
     "output_type": "stream",
     "text": [
      "[1, 3, 5, 7, 9, 11, 13, 15, 17, 19, 21, 23, 25, 27, 29, 31, 33, 35, 37, 39, 41, 43, 45, 47, 49, 51, 53, 55, 57, 59, 61, 63, 65, 67, 69, 71, 73, 75, 77, 79, 81, 83, 85, 87, 89, 91, 93, 95, 97, 99]\n"
     ]
    }
   ],
   "source": [
    "odd_numbers = [num for num in range(1, 101) if num % 2 != 0]\n",
    "print(odd_numbers)"
   ]
  },
  {
   "cell_type": "code",
   "execution_count": null,
   "id": "7edaec75-2e6e-4ac0-ac48-8740843c1738",
   "metadata": {},
   "outputs": [],
   "source": []
  }
 ],
 "metadata": {
  "kernelspec": {
   "display_name": "Python 3 (ipykernel)",
   "language": "python",
   "name": "python3"
  },
  "language_info": {
   "codemirror_mode": {
    "name": "ipython",
    "version": 3
   },
   "file_extension": ".py",
   "mimetype": "text/x-python",
   "name": "python",
   "nbconvert_exporter": "python",
   "pygments_lexer": "ipython3",
   "version": "3.10.8"
  }
 },
 "nbformat": 4,
 "nbformat_minor": 5
}
