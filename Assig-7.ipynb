{
 "cells": [
  {
   "cell_type": "markdown",
   "id": "a846eee8-a48d-4557-9047-9d9c0317ea1b",
   "metadata": {},
   "source": [
    "# Q1. What is Abstraction in OOps? Explain with an example."
   ]
  },
  {
   "cell_type": "markdown",
   "id": "bc850fbf-cfdc-421d-af15-94227551c9fb",
   "metadata": {},
   "source": [
    "Abstraction is one of the key concepts in object-oriented programming (OOP) that focuses on hiding the complex implementation details and showing only the essential features of an object. It allows you to create a simple model representing a more complex reality. Abstraction provides a way to create a user-defined data type or class where the user can define the properties and methods based on their requirements, without having to worry about the internal implementation details.\n",
    "\n",
    "In OOP, abstraction can be achieved using abstract classes and interfaces. Abstract classes are classes that cannot be instantiated and are used as a base for other classes. They may contain abstract methods that must be implemented by the subclasses. Interfaces, on the other hand, are a collection of abstract methods that define a set of actions without specifying how these actions will be implemented."
   ]
  },
  {
   "cell_type": "code",
   "execution_count": 1,
   "id": "7df6fa0e-26e5-4af3-acc4-0632d6b4970b",
   "metadata": {},
   "outputs": [
    {
     "name": "stdout",
     "output_type": "stream",
     "text": [
      "Area of rectangle: 15\n",
      "Perimeter of rectangle: 16\n",
      "Area of circle: 153.86\n",
      "Perimeter of circle: 43.96\n"
     ]
    }
   ],
   "source": [
    "from abc import ABC, abstractmethod\n",
    "\n",
    "class Shape(ABC):\n",
    "    @abstractmethod\n",
    "    def area(self):\n",
    "        pass\n",
    "\n",
    "    @abstractmethod\n",
    "    def perimeter(self):\n",
    "        pass\n",
    "\n",
    "class Rectangle(Shape):\n",
    "    def __init__(self, length, breadth):\n",
    "        self.length = length\n",
    "        self.breadth = breadth\n",
    "\n",
    "    def area(self):\n",
    "        return self.length * self.breadth\n",
    "\n",
    "    def perimeter(self):\n",
    "        return 2 * (self.length + self.breadth)\n",
    "\n",
    "class Circle(Shape):\n",
    "    def __init__(self, radius):\n",
    "        self.radius = radius\n",
    "\n",
    "    def area(self):\n",
    "        return 3.14 * self.radius * self.radius\n",
    "\n",
    "    def perimeter(self):\n",
    "        return 2 * 3.14 * self.radius\n",
    "\n",
    "\n",
    "rectangle = Rectangle(5, 3)\n",
    "circle = Circle(7)\n",
    "\n",
    "print(\"Area of rectangle:\", rectangle.area())\n",
    "print(\"Perimeter of rectangle:\", rectangle.perimeter())\n",
    "print(\"Area of circle:\", circle.area())\n",
    "print(\"Perimeter of circle:\", circle.perimeter())\n"
   ]
  },
  {
   "cell_type": "markdown",
   "id": "6acc5566-a28d-4c41-91c5-6a0531d21e71",
   "metadata": {},
   "source": [
    "# Q2. Differentiate between Abstraction and Encapsulation. Explain with an example."
   ]
  },
  {
   "cell_type": "markdown",
   "id": "c78e228e-9001-4ab2-8ae9-56092935f473",
   "metadata": {},
   "source": [
    "Abstraction and encapsulation are two important concepts in object-oriented programming, often used together but serving different purposes.\n",
    "\n",
    "Abstraction: Abstraction refers to the process of hiding the complex implementation details and showing only the essential features of an object. It allows you to focus on what an object does rather than how it does it. Abstraction can be achieved using abstract classes and interfaces.\n",
    "\n",
    "Encapsulation: Encapsulation, on the other hand, is the process of binding the data (variables) and the code (methods) that operate on the data into a single unit called a class. It allows you to control the accessibility of the data by hiding it from the outside world and providing access only through the methods."
   ]
  },
  {
   "cell_type": "code",
   "execution_count": 2,
   "id": "11ee9fc0-f94f-4f35-b332-018f14901836",
   "metadata": {},
   "outputs": [
    {
     "name": "stdout",
     "output_type": "stream",
     "text": [
      "Area of circle: 78.5\n",
      "Radius of circle: 5\n",
      "Updated radius of circle: 7\n",
      "Updated area of circle: 153.86\n"
     ]
    }
   ],
   "source": [
    "# Abstraction and Encapsulation example\n",
    "\n",
    "# Abstraction using abstract class\n",
    "from abc import ABC, abstractmethod\n",
    "\n",
    "class Shape(ABC):\n",
    "    @abstractmethod\n",
    "    def area(self):\n",
    "        pass\n",
    "\n",
    "# Encapsulation using class\n",
    "class Circle(Shape):\n",
    "    def __init__(self, radius):\n",
    "        self.__radius = radius  # Encapsulating the radius\n",
    "\n",
    "    def area(self):\n",
    "        return 3.14 * self.__radius * self.__radius  # Using the encapsulated radius to calculate area\n",
    "\n",
    "    def get_radius(self):\n",
    "        return self.__radius  # Encapsulated method to get the radius\n",
    "\n",
    "    def set_radius(self, radius):\n",
    "        if radius > 0:\n",
    "            self.__radius = radius  # Encapsulated method to set the radius\n",
    "\n",
    "# Creating object of the class\n",
    "circle = Circle(5)\n",
    "\n",
    "# Calling methods\n",
    "print(\"Area of circle:\", circle.area())\n",
    "\n",
    "# Trying to access the private variable directly (which is encapsulated)\n",
    "# This will result in an AttributeError\n",
    "# print(circle.__radius)\n",
    "\n",
    "# Accessing the private variable using encapsulated method\n",
    "print(\"Radius of circle:\", circle.get_radius())\n",
    "\n",
    "# Using encapsulated method to set the radius\n",
    "circle.set_radius(7)\n",
    "print(\"Updated radius of circle:\", circle.get_radius())\n",
    "print(\"Updated area of circle:\", circle.area())\n"
   ]
  },
  {
   "cell_type": "markdown",
   "id": "d0060059-a23f-42e7-aa54-e210fcfa9ae9",
   "metadata": {},
   "source": [
    "# Q3. What is abc module in python? Why is it used?"
   ]
  },
  {
   "cell_type": "markdown",
   "id": "e2d87fa8-baf1-4f1b-b200-c18a37e5ccc5",
   "metadata": {},
   "source": [
    "The abc module in Python stands for Abstract Base Classes. It provides a way to create abstract base classes that define a set of methods as abstract methods. These abstract methods must be implemented by the derived classes. The main purpose of the abc module is to enforce a certain structure in derived classes by ensuring that they implement specific methods, which helps in achieving a higher level of abstraction and consistency in the code.\n",
    "\n",
    "The abc module is used to create abstract base classes and is particularly helpful in the following scenarios:\n",
    "\n",
    "Defining Interfaces: The abc module allows you to define interfaces in Python. These interfaces can define a set of methods that must be implemented by the derived classes. This ensures that all the derived classes adhere to a common set of methods and thus makes it easier to work with these classes in a consistent manner.\n",
    "\n",
    "Enforcing Structure: By defining abstract base classes, the abc module enforces a certain structure on the derived classes. It ensures that certain methods are implemented in the derived classes, which helps in maintaining a consistent structure and behavior across different implementations."
   ]
  },
  {
   "cell_type": "code",
   "execution_count": 3,
   "id": "8a459bbc-d356-4113-89c7-e29554281132",
   "metadata": {},
   "outputs": [
    {
     "name": "stdout",
     "output_type": "stream",
     "text": [
      "Area of rectangle: 15\n",
      "Perimeter of rectangle: 16\n",
      "Area of circle: 153.86\n",
      "Perimeter of circle: 43.96\n"
     ]
    }
   ],
   "source": [
    "from abc import ABC, abstractmethod\n",
    "\n",
    "class Shape(ABC):\n",
    "    @abstractmethod\n",
    "    def area(self):\n",
    "        pass\n",
    "\n",
    "    @abstractmethod\n",
    "    def perimeter(self):\n",
    "        pass\n",
    "\n",
    "class Rectangle(Shape):\n",
    "    def __init__(self, length, breadth):\n",
    "        self.length = length\n",
    "        self.breadth = breadth\n",
    "\n",
    "    def area(self):\n",
    "        return self.length * self.breadth\n",
    "\n",
    "    def perimeter(self):\n",
    "        return 2 * (self.length + self.breadth)\n",
    "\n",
    "class Circle(Shape):\n",
    "    def __init__(self, radius):\n",
    "        self.radius = radius\n",
    "\n",
    "    def area(self):\n",
    "        return 3.14 * self.radius * self.radius\n",
    "\n",
    "    def perimeter(self):\n",
    "        return 2 * 3.14 * self.radius\n",
    "\n",
    "\n",
    "rectangle = Rectangle(5, 3)\n",
    "circle = Circle(7)\n",
    "\n",
    "print(\"Area of rectangle:\", rectangle.area())\n",
    "print(\"Perimeter of rectangle:\", rectangle.perimeter())\n",
    "print(\"Area of circle:\", circle.area())\n",
    "print(\"Perimeter of circle:\", circle.perimeter())\n"
   ]
  },
  {
   "cell_type": "markdown",
   "id": "9ba97fa2-d645-4137-9acc-58688bde3b57",
   "metadata": {},
   "source": [
    "# Q4. How can we achieve data abstraction?"
   ]
  },
  {
   "cell_type": "markdown",
   "id": "24a100db-cf31-4760-b4d9-1b3f6946b5c1",
   "metadata": {},
   "source": [
    "Data abstraction in programming refers to the concept of representing the essential features without including the background details or explanations. In the context of object-oriented programming (OOP), data abstraction can be achieved through the use of abstract classes and interfaces. Here are some key ways to achieve data abstraction:\n",
    "\n",
    "Abstract Classes: Abstract classes are classes that cannot be instantiated and are used as a blueprint for other classes. They can contain both regular methods with implementations and abstract methods without implementations. Abstract methods provide a way to enforce that the subclasses implement specific methods. By using abstract classes, you can hide the implementation details from the end-user.\n",
    "\n",
    "Interfaces: Interfaces are similar to abstract classes, but they only contain abstract method definitions and no implementations. They define a set of methods that a class must implement. By utilizing interfaces, you can define a contract that specifies what a class can do without concerning itself with how it does it. This allows for achieving complete data abstraction.\n",
    "\n",
    "Access Modifiers: Access modifiers such as public, private, and protected play a crucial role in achieving data abstraction. By using access modifiers, you can control the access to class members, allowing you to hide sensitive data from the outside world and providing access only through methods. This way, you can achieve data abstraction by exposing only the necessary information to the user.\n",
    "\n",
    "Getters and Setters: Getters and setters, also known as accessor and mutator methods, are used to access and modify the private attributes of a class. They provide a controlled way to access and modify the data members, allowing you to maintain the integrity of the data and control the access to it. By using getters and setters, you can achieve data abstraction by hiding the internal representation of the object."
   ]
  },
  {
   "cell_type": "markdown",
   "id": "2fee9efa-a0f0-413d-99e8-8d5eff5b374c",
   "metadata": {},
   "source": [
    "# Q5. Can we create an instance of an abstract class? Explain your answer."
   ]
  },
  {
   "cell_type": "markdown",
   "id": "1288d5d8-229b-4186-a123-a6560cb8f38d",
   "metadata": {},
   "source": [
    "In Python, it is not possible to create an instance of an abstract class directly. Attempting to instantiate an abstract class will result in an error. This behavior is enforced by the concept of abstract base classes (ABCs) provided by the abc module.\n",
    "\n",
    "When you try to create an instance of an abstract class, Python will raise a TypeError stating that the abstract class cannot be instantiated."
   ]
  },
  {
   "cell_type": "code",
   "execution_count": 4,
   "id": "38942ebb-4660-4b9a-ac2b-7c7c77c67cc3",
   "metadata": {},
   "outputs": [],
   "source": [
    "from abc import ABC, abstractmethod\n",
    "\n",
    "class AbstractClass(ABC):\n",
    "    @abstractmethod\n",
    "    def abstract_method(self):\n",
    "        pass\n",
    "\n",
    "\n"
   ]
  },
  {
   "cell_type": "code",
   "execution_count": null,
   "id": "9c846252-3044-46ee-bf0d-c8c21a3046b8",
   "metadata": {},
   "outputs": [],
   "source": []
  }
 ],
 "metadata": {
  "kernelspec": {
   "display_name": "Python 3 (ipykernel)",
   "language": "python",
   "name": "python3"
  },
  "language_info": {
   "codemirror_mode": {
    "name": "ipython",
    "version": 3
   },
   "file_extension": ".py",
   "mimetype": "text/x-python",
   "name": "python",
   "nbconvert_exporter": "python",
   "pygments_lexer": "ipython3",
   "version": "3.10.8"
  }
 },
 "nbformat": 4,
 "nbformat_minor": 5
}
