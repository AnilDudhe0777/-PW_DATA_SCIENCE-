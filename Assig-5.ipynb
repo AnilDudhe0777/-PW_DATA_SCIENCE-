{
 "cells": [
  {
   "cell_type": "markdown",
   "id": "eb5c3d8c-6fe6-415b-9d94-2a69c2542a75",
   "metadata": {},
   "source": [
    "# Q1, Create a vehicle class with an init method having instance variables as name_of_vehicle, max_speed and average_of_vehicle."
   ]
  },
  {
   "cell_type": "code",
   "execution_count": 1,
   "id": "e82685c2-4dee-4ef1-8685-570aa48c1f0b",
   "metadata": {},
   "outputs": [
    {
     "name": "stdout",
     "output_type": "stream",
     "text": [
      "Name of Vehicle: Toyota, Max Speed: 200, Average of Vehicle: 35\n"
     ]
    }
   ],
   "source": [
    "class Vehicle:\n",
    "    def __init__(self, name_of_vehicle, max_speed, average_of_vehicle):\n",
    "        self.name_of_vehicle = name_of_vehicle\n",
    "        self.max_speed = max_speed\n",
    "        self.average_of_vehicle = average_of_vehicle\n",
    "car = Vehicle(\"Toyota\", 200, 35)\n",
    "print(f\"Name of Vehicle: {car.name_of_vehicle}, Max Speed: {car.max_speed}, Average of Vehicle: {car.average_of_vehicle}\")\n"
   ]
  },
  {
   "cell_type": "markdown",
   "id": "66a6255c-6d0b-4ed5-ac91-72293947a626",
   "metadata": {},
   "source": [
    "# Q2. Create a child class car from the vehicle class created in Que 1, which will inherit the vehicle class. Create a method named seating_capacity which takes capacity as an argument and returns the name of the vehicle and its seating capacity."
   ]
  },
  {
   "cell_type": "code",
   "execution_count": 2,
   "id": "bc385620-0059-4e9d-92f6-f5d1c838e3ac",
   "metadata": {},
   "outputs": [
    {
     "name": "stdout",
     "output_type": "stream",
     "text": [
      "The Toyota has a seating capacity of 5 people.\n"
     ]
    }
   ],
   "source": [
    "class Vehicle:\n",
    "    def __init__(self, name_of_vehicle, max_speed, average_of_vehicle):\n",
    "        self.name_of_vehicle = name_of_vehicle\n",
    "        self.max_speed = max_speed\n",
    "        self.average_of_vehicle = average_of_vehicle\n",
    "\n",
    "class Car(Vehicle):\n",
    "    def seating_capacity(self, capacity):\n",
    "        return f\"The {self.name_of_vehicle} has a seating capacity of {capacity} people.\"\n",
    "\n",
    "car = Car(\"Toyota\", 200, 35)\n",
    "print(car.seating_capacity(5))\n"
   ]
  },
  {
   "cell_type": "markdown",
   "id": "c088160d-8c2d-4d43-821c-7e4d96a91797",
   "metadata": {},
   "source": [
    "# Q3. What is multiple inheritance? Write a python code to demonstrate multiple inheritance."
   ]
  },
  {
   "cell_type": "markdown",
   "id": "c5a90a57-b327-4217-bab5-d83cf9a87a45",
   "metadata": {},
   "source": [
    "Multiple inheritance is a feature in object-oriented programming languages that allows a class to inherit properties and behavior from more than one parent class.\n",
    "In Python, a class can inherit from multiple base classes. However, multiple inheritance can lead to the diamond problem, where a class inherits from two separate \n",
    "classes that have a common ancestor. To avoid conflicts, the method resolution order (MRO) is used to determine the order in which the base classes are searched for \n",
    "a method or attribute."
   ]
  },
  {
   "cell_type": "code",
   "execution_count": 4,
   "id": "0cd2b42c-2652-41f8-81b0-a1416e9e36a6",
   "metadata": {},
   "outputs": [
    {
     "name": "stdout",
     "output_type": "stream",
     "text": [
      "[<class '__main__.DogCat'>, <class '__main__.Dog'>, <class '__main__.Cat'>, <class '__main__.Animal'>, <class 'object'>]\n",
      "Dog barks\n"
     ]
    }
   ],
   "source": [
    "class Animal:\n",
    "    def speak(self):\n",
    "        return \"Animal speaks\"\n",
    "\n",
    "\n",
    "class Dog(Animal):\n",
    "    def speak(self):\n",
    "        return \"Dog barks\"\n",
    "\n",
    "\n",
    "class Cat(Animal):\n",
    "    def speak(self):\n",
    "        return \"Cat meows\"\n",
    "\n",
    "\n",
    "class DogCat(Dog, Cat):\n",
    "    pass\n",
    "\n",
    "\n",
    "\n",
    "dc = DogCat()\n",
    "print(DogCat.mro())\n",
    "print(dc.speak())\n"
   ]
  },
  {
   "cell_type": "markdown",
   "id": "d3efbcc1-3476-4200-b4f9-4f8ca89aad1a",
   "metadata": {},
   "source": [
    "# Q4. What are getter and setter in python? Create a class and create a getter and a setter method in this class."
   ]
  },
  {
   "cell_type": "markdown",
   "id": "3ffd6c90-1eaa-460e-bb38-f27c583ec2b1",
   "metadata": {},
   "source": [
    "In Python, getters and setters are used to control access to an object's attributes. They allow you to retrieve and modify the values of \n",
    "private attributes of a class. Getters are used to get the value of a private attribute, and setters are used to set the value of a private \n",
    "attribute. They are useful for controlling access to class attributes and performing validation before setting or getting the values."
   ]
  },
  {
   "cell_type": "code",
   "execution_count": 5,
   "id": "d4a7526a-2431-4bf4-826e-43a4f4101c5a",
   "metadata": {},
   "outputs": [
    {
     "name": "stdout",
     "output_type": "stream",
     "text": [
      "10\n",
      "Error: Value cannot be negative.\n"
     ]
    }
   ],
   "source": [
    "class MyClass:\n",
    "    def __init__(self):\n",
    "        self._value = 0  \n",
    "\n",
    "    \n",
    "    def get_value(self):\n",
    "        return self._value\n",
    "\n",
    "    \n",
    "    def set_value(self, new_value):\n",
    "        if new_value < 0:\n",
    "            print(\"Error: Value cannot be negative.\")\n",
    "        else:\n",
    "            self._value = new_value\n",
    "\n",
    "\n",
    "obj = MyClass()\n",
    "obj.set_value(10)\n",
    "print(obj.get_value())\n",
    "obj.set_value(-5)\n"
   ]
  },
  {
   "cell_type": "markdown",
   "id": "008e1157-e7e0-4619-8288-12c69dba7694",
   "metadata": {},
   "source": [
    "# Q5.What is method overriding in python? Write a python code to demonstrate method overriding."
   ]
  },
  {
   "cell_type": "markdown",
   "id": "53c508f0-fe82-45b7-8fcb-1aa45be9c5d4",
   "metadata": {},
   "source": [
    "Method overriding in Python occurs when a derived class defines a method with the same name as a method in its base class. This allows the derived \n",
    "class to provide a specific implementation of the method, effectively overriding the behavior of the method defined in the base class. Method overriding \n",
    "is commonly used to implement polymorphism in Python."
   ]
  },
  {
   "cell_type": "code",
   "execution_count": 6,
   "id": "fb1685ba-829b-462e-8c2e-69b3db4090b3",
   "metadata": {},
   "outputs": [
    {
     "name": "stdout",
     "output_type": "stream",
     "text": [
      "Parent's show method\n",
      "Child's show method\n"
     ]
    }
   ],
   "source": [
    "class Parent:\n",
    "    def show(self):\n",
    "        print(\"Parent's show method\")\n",
    "\n",
    "\n",
    "class Child(Parent):\n",
    "    def show(self):\n",
    "        print(\"Child's show method\")\n",
    "\n",
    "\n",
    "\n",
    "parent_obj = Parent()\n",
    "child_obj = Child()\n",
    "\n",
    "\n",
    "parent_obj.show() \n",
    "child_obj.show()  \n"
   ]
  },
  {
   "cell_type": "code",
   "execution_count": null,
   "id": "bb701719-9829-442a-bd52-33f4c7efd3b6",
   "metadata": {},
   "outputs": [],
   "source": []
  }
 ],
 "metadata": {
  "kernelspec": {
   "display_name": "Python 3 (ipykernel)",
   "language": "python",
   "name": "python3"
  },
  "language_info": {
   "codemirror_mode": {
    "name": "ipython",
    "version": 3
   },
   "file_extension": ".py",
   "mimetype": "text/x-python",
   "name": "python",
   "nbconvert_exporter": "python",
   "pygments_lexer": "ipython3",
   "version": "3.10.8"
  }
 },
 "nbformat": 4,
 "nbformat_minor": 5
}
