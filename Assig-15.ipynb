{
 "cells": [
  {
   "cell_type": "markdown",
   "id": "c1e5f69f-e426-47c7-a1c3-236fceb4bbdd",
   "metadata": {},
   "source": [
    "# Q1. What is Flask Framework? What are the advantages of Flask Framework?"
   ]
  },
  {
   "cell_type": "markdown",
   "id": "3d950648-85b8-4fd7-ac07-5676c0b9e073",
   "metadata": {},
   "source": [
    "Flask is a lightweight and extensible web application framework for Python. It is designed to make getting started quick and easy, with the ability to scale up to complex applications. Flask provides tools, libraries, and technologies that allow developers to build web applications in a simple and straightforward manner. It is widely used for developing web applications, RESTful APIs, and other web services.\n",
    "\n",
    "Some of the advantages of the Flask framework include:\n",
    "\n",
    "Simplicity: Flask is known for its simplicity and minimalism, making it easy for developers to get started with web application development without a steep learning curve.\n",
    "\n",
    "Flexibility: Flask provides the flexibility to choose the components you want to use, allowing developers to build applications based on their specific requirements.\n",
    "\n",
    "Lightweight: Flask is a lightweight framework that doesn't impose any specific tools or libraries, enabling developers to use only what they need, which leads to faster application development and improved performance.\n",
    "\n",
    "Extensibility: Flask is highly extensible and allows developers to integrate various extensions to add functionalities such as authentication, database integration, and more, depending on the needs of the application.\n",
    "\n",
    "Jinja2 Templating: Flask uses the powerful Jinja2 templating engine, which makes it easy to create dynamic HTML content and templates, allowing for easy and efficient data rendering in web applications.\n",
    "\n",
    "Werkzeug Integration: Flask is built on top of the Werkzeug WSGI toolkit, which provides a comprehensive set of utilities for building web applications. It includes a robust debugger and a built-in development server, which makes debugging and testing easier.\n",
    "\n",
    "Large Community Support: Flask has a large and active community of developers and contributors, which results in extensive documentation, tutorials, and third-party extensions that can be used to enhance and expand the functionality of Flask applications."
   ]
  },
  {
   "cell_type": "markdown",
   "id": "b4d16b37-22e4-4f67-aaed-35c4340a4dee",
   "metadata": {},
   "source": [
    "# Q2. Create a simple Flask application to display ‘Hello World!!’. Attach the screenshot of the output in Jupyter Notebook."
   ]
  },
  {
   "cell_type": "code",
   "execution_count": null,
   "id": "9e2d89d8-0565-4acc-b05e-cd8ef86aef4f",
   "metadata": {},
   "outputs": [],
   "source": [
    "from flask import Flask\n",
    "\n",
    "app = Flask(__name__)\n",
    "\n",
    "@app.route('/')\n",
    "def hello_world():\n",
    "    return 'Hello World!!'\n",
    "\n",
    "if __name__ == '__main__':\n",
    "    app.run(debug=True)\n"
   ]
  },
  {
   "cell_type": "markdown",
   "id": "79955579-60de-4506-91cc-5ee7f5835556",
   "metadata": {},
   "source": [
    "![](\"p.jpg\")"
   ]
  },
  {
   "cell_type": "markdown",
   "id": "cb29e389-7db6-4995-a39e-d6ef66a2c244",
   "metadata": {},
   "source": [
    "# Q3. What is App routing in Flask? Why do we use app routes?"
   ]
  },
  {
   "cell_type": "markdown",
   "id": "77c6b009-bef7-4b8c-ba70-98303d03f57f",
   "metadata": {},
   "source": [
    "In Flask, app routing refers to the process of mapping URLs to the functions that handle them. It allows you to define different routes for your application, which are essentially the different URLs that a user can visit. When a user visits a specific URL, Flask matches the URL to a particular route and executes the associated function to generate the appropriate response."
   ]
  },
  {
   "cell_type": "code",
   "execution_count": null,
   "id": "0ddc46bc-039a-4665-ac4d-443dab37aae0",
   "metadata": {},
   "outputs": [],
   "source": [
    "from flask import Flask\n",
    "\n",
    "app = Flask(__name__)\n",
    "\n",
    "@app.route('/')\n",
    "def index():\n",
    "    return 'This is the home page.'\n",
    "\n",
    "@app.route('/about')\n",
    "def about():\n",
    "    return 'This is the about page.'\n",
    "\n",
    "if __name__ == '__main__':\n",
    "    app.run(debug=True)"
   ]
  },
  {
   "cell_type": "markdown",
   "id": "568c7662-32f6-43e1-9fd9-3292247b81c2",
   "metadata": {},
   "source": [
    "In this example, the @app.route() decorator is used to define different routes for the application. The routes '/' and '/about' correspond to the home page and about page, respectively. When a user visits the corresponding URLs, the index() and about() functions are executed, and the returned strings are displayed in the browser.\n",
    "\n",
    "We use app routes in Flask for the following reasons:\n",
    "\n",
    "URL Mapping: App routes help in mapping specific URLs to corresponding functions, allowing the Flask application to handle different requests and provide the appropriate responses.\n",
    "\n",
    "Code Organization: Using app routes helps organize the code by separating different functionalities into distinct functions, making it easier to maintain and manage the application as it grows.\n",
    "\n",
    "Modularity: App routes promote modularity, allowing developers to create different routes for different parts of the application, which can be maintained and modified independently.\n",
    "\n",
    "User Experience: App routes contribute to a better user experience by providing clear and distinct URLs for different pages or functionalities of the application, making it easier for users to navigate through the application."
   ]
  },
  {
   "cell_type": "markdown",
   "id": "082437c3-c1a1-49be-b098-67f358ab8ac6",
   "metadata": {},
   "source": [
    "# Q4. Create a “/welcome” route to display the welcome message “Welcome to ABC Corporation” and a “/” route to show the following details: Company Name: ABC Corporation Location: Indiam Contact Detail: 999-999-9999"
   ]
  },
  {
   "cell_type": "code",
   "execution_count": null,
   "id": "ed516a78-7971-4f42-acad-216d3c6eb29f",
   "metadata": {},
   "outputs": [],
   "source": [
    "from flask import Flask\n",
    "\n",
    "app = Flask(__name__)\n",
    "\n",
    "@app.route('/welcome')\n",
    "def welcome():\n",
    "    return 'Welcome to ABC Corporation'\n",
    "\n",
    "@app.route('/')\n",
    "def company_details():\n",
    "    return '''Company Name: ABC Corporation\n",
    "Location: India\n",
    "Contact Detail: 999-999-9999'''\n",
    "\n",
    "if __name__ == '__main__':\n",
    "    app.run(debug=True)"
   ]
  },
  {
   "cell_type": "markdown",
   "id": "b1d10451-f465-4f0f-993c-818c9c0c586e",
   "metadata": {},
   "source": [
    "![](\"t.png\")"
   ]
  },
  {
   "cell_type": "markdown",
   "id": "6395404e-7f6b-46e6-af33-f33665da3726",
   "metadata": {},
   "source": [
    "# Q5. What function is used in Flask for URL Building? Write a Python code to demonstrate the working of the url_for() function."
   ]
  },
  {
   "cell_type": "markdown",
   "id": "a0c8491a-83eb-484a-b15b-3ffa21f690c1",
   "metadata": {},
   "source": [
    "In Flask, the url_for() function is used for URL building. It generates a URL for the given endpoint with the method provided. It takes the endpoint name as an argument and returns the URL for the given endpoint. This function is particularly useful when you want to build URLs dynamically, based on the logic in your application, rather than hardcoding them.\n",
    "\n",
    "Here's an example demonstrating the usage of the url_for() function in a simple Flask application:"
   ]
  },
  {
   "cell_type": "code",
   "execution_count": null,
   "id": "5d6e5ccb-77e4-4fc4-8d23-7cd9726bfbbe",
   "metadata": {},
   "outputs": [],
   "source": [
    "from flask import Flask, url_for\n",
    "\n",
    "app = Flask(__name__)\n",
    "\n",
    "@app.route('/user/<username>')\n",
    "def profile(username):\n",
    "    pass\n",
    "\n",
    "with app.test_request_context():\n",
    "    print(url_for('profile', username='John Doe'))"
   ]
  }
 ],
 "metadata": {
  "kernelspec": {
   "display_name": "Python 3 (ipykernel)",
   "language": "python",
   "name": "python3"
  },
  "language_info": {
   "codemirror_mode": {
    "name": "ipython",
    "version": 3
   },
   "file_extension": ".py",
   "mimetype": "text/x-python",
   "name": "python",
   "nbconvert_exporter": "python",
   "pygments_lexer": "ipython3",
   "version": "3.10.8"
  }
 },
 "nbformat": 4,
 "nbformat_minor": 5
}
